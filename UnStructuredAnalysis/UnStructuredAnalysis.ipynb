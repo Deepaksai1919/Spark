{
 "cells": [
  {
   "cell_type": "code",
   "execution_count": null,
   "id": "b6f73da2-c924-412f-a75f-31c4448a0356",
   "metadata": {},
   "outputs": [],
   "source": [
    "!pip install findspark"
   ]
  },
  {
   "cell_type": "code",
   "execution_count": 1,
   "id": "1f2ff0fc-5464-4b8b-9049-8db6801ba0bd",
   "metadata": {},
   "outputs": [],
   "source": [
    "import findspark\n",
    "findspark.init()"
   ]
  },
  {
   "cell_type": "code",
   "execution_count": 2,
   "id": "932f6ea3-1951-4a2f-a657-92a9c83f94cc",
   "metadata": {},
   "outputs": [],
   "source": [
    "from pyspark import SparkContext, SparkConf"
   ]
  },
  {
   "cell_type": "code",
   "execution_count": 3,
   "id": "8384bf93-fa6d-4dfd-ad5c-e975bc735c15",
   "metadata": {},
   "outputs": [
    {
     "name": "stderr",
     "output_type": "stream",
     "text": [
      "23/06/26 10:40:52 WARN Utils: Your hostname, OMEN resolves to a loopback address: 127.0.1.1; using 172.19.181.52 instead (on interface eth0)\n",
      "23/06/26 10:40:52 WARN Utils: Set SPARK_LOCAL_IP if you need to bind to another address\n",
      "Setting default log level to \"WARN\".\n",
      "To adjust logging level use sc.setLogLevel(newLevel). For SparkR, use setLogLevel(newLevel).\n",
      "23/06/26 10:40:53 WARN NativeCodeLoader: Unable to load native-hadoop library for your platform... using builtin-java classes where applicable\n"
     ]
    },
    {
     "data": {
      "text/html": [
       "\n",
       "        <div>\n",
       "            <p><b>SparkContext</b></p>\n",
       "\n",
       "            <p><a href=\"http://172.19.181.52:4040\">Spark UI</a></p>\n",
       "\n",
       "            <dl>\n",
       "              <dt>Version</dt>\n",
       "                <dd><code>v3.4.1</code></dd>\n",
       "              <dt>Master</dt>\n",
       "                <dd><code>local[*]</code></dd>\n",
       "              <dt>AppName</dt>\n",
       "                <dd><code>UnStructured Analysis</code></dd>\n",
       "            </dl>\n",
       "        </div>\n",
       "        "
      ],
      "text/plain": [
       "<SparkContext master=local[*] appName=UnStructured Analysis>"
      ]
     },
     "execution_count": 3,
     "metadata": {},
     "output_type": "execute_result"
    }
   ],
   "source": [
    "conf = SparkConf().setMaster('local[*]').setAppName('UnStructured Analysis')\n",
    "sc = SparkContext(conf = conf)\n",
    "sc.setLogLevel('ERROR')\n",
    "sc"
   ]
  },
  {
   "cell_type": "code",
   "execution_count": 4,
   "id": "c84d929d-028f-4938-8543-de2e909c1a7a",
   "metadata": {},
   "outputs": [
    {
     "data": {
      "text/plain": [
       "16"
      ]
     },
     "execution_count": 4,
     "metadata": {},
     "output_type": "execute_result"
    }
   ],
   "source": [
    "sc.defaultParallelism"
   ]
  },
  {
   "cell_type": "code",
   "execution_count": 5,
   "id": "4073caac-a014-4662-99a0-3a591ab5ad96",
   "metadata": {},
   "outputs": [],
   "source": [
    "rdd = sc.textFile('file:///home/deepak/datasets/ghtorrent-logs.txt.gz')"
   ]
  },
  {
   "cell_type": "code",
   "execution_count": 6,
   "id": "ebee471f-799a-4971-8e98-b790fe20845f",
   "metadata": {},
   "outputs": [
    {
     "data": {
      "text/plain": [
       "1"
      ]
     },
     "execution_count": 6,
     "metadata": {},
     "output_type": "execute_result"
    }
   ],
   "source": [
    "rdd.getNumPartitions()"
   ]
  },
  {
   "cell_type": "code",
   "execution_count": 7,
   "id": "f1571d29-8134-4b90-87d6-29376c136160",
   "metadata": {},
   "outputs": [],
   "source": [
    "from pyspark import StorageLevel\n",
    "rdd = rdd.persist(StorageLevel.MEMORY_AND_DISK)"
   ]
  },
  {
   "cell_type": "code",
   "execution_count": 8,
   "id": "0d3dc7ec-a648-46fc-95d8-5771883ba688",
   "metadata": {},
   "outputs": [
    {
     "name": "stderr",
     "output_type": "stream",
     "text": [
      "[Stage 0:>                                                          (0 + 1) / 1]\r"
     ]
    },
    {
     "name": "stdout",
     "output_type": "stream",
     "text": [
      "The number of records: 9669788\n"
     ]
    },
    {
     "name": "stderr",
     "output_type": "stream",
     "text": [
      "                                                                                \r"
     ]
    }
   ],
   "source": [
    "print('The number of records:', rdd.count())"
   ]
  },
  {
   "cell_type": "code",
   "execution_count": 9,
   "id": "79d2519b-77e6-44fe-85c1-6921a2197c3f",
   "metadata": {},
   "outputs": [
    {
     "name": "stderr",
     "output_type": "stream",
     "text": [
      "                                                                                \r"
     ]
    },
    {
     "data": {
      "text/plain": [
       "['DEBUG, 2017-03-23T12:00:58+00:00, ghtorrent-19 -- ghtorrent.rb: Repo ccurro/tiefvision exists',\n",
       " 'DEBUG, 2017-03-23T14:07:36+00:00, ghtorrent-20 -- retriever.rb: issues drone/drone -> 1604 exists',\n",
       " 'INFO, 2017-03-23T10:07:20+00:00, ghtorrent-29 -- ghtorrent.rb: Added issue_event xcat2/xcat-core -> 2703/xcat2/xcat-core -> 2703/1008161947',\n",
       " 'INFO, 2017-03-23T09:17:58+00:00, ghtorrent-19 -- api_client.rb: Successful request. URL: https://api.github.com/repos/yuwangying/PyCTP/issues/17/labels?per_page=100, Remaining: 2192, Total: 85 ms',\n",
       " 'DEBUG, 2017-03-24T13:05:50+00:00, ghtorrent-47 -- ghtorrent.rb: Repo smcintosh881/343-accounting exists',\n",
       " 'DEBUG, 2017-03-23T10:12:50+00:00, ghtorrent-7 -- ghtorrent.rb: Transaction committed (30 ms)',\n",
       " 'DEBUG, 2017-03-23T10:42:40+00:00, ghtorrent-14 -- retriever.rb: Commit derlio/JieCaoVideoPlayer -> bd4b967d7e50256fab2e74f531013649d04e0246 exists',\n",
       " 'DEBUG, 2017-03-23T10:12:52+00:00, ghtorrent-7 -- ghtorrent.rb: User mithro exists',\n",
       " 'DEBUG, 2017-03-22T20:14:18+00:00, ghtorrent-27 -- ghtorrent.rb: Issue MahjongRepository/tenhou-python-bot->24 exists',\n",
       " 'DEBUG, 2017-03-23T11:19:39+00:00, ghtorrent-19 -- ghtorrent.rb: User liupengyuan exists',\n",
       " 'DEBUG, 2017-03-23T11:12:36+00:00, ghtorrent-14 -- retriever.rb: Commit erebe/cassandra-chef-cookbook -> d21f55166f45a3804c13e60f9b7ab73e3618f1fb exists',\n",
       " 'DEBUG, 2017-03-23T11:01:56+00:00, ghtorrent-16 -- ghtorrent.rb: Repo JackWangCUMT/jsoneditor exists',\n",
       " 'DEBUG, 2017-03-23T10:31:17+00:00, ghtorrent-41 -- ghtorrent.rb: Commit ovyx/HammerheadN -> bf56f0a6668cd399b5136d2216f24ec97f0ce716 exists',\n",
       " 'DEBUG, 2017-03-23T09:15:00+00:00, ghtorrent-19 -- ghtorrent.rb: Retrieving commits for fork shibolin930/Robust: strategy is fork_point',\n",
       " 'INFO, 2017-03-23T09:12:33+00:00, ghtorrent-26 -- api_client.rb: Successful request. URL: https://api.github.com/repos/lzhou1110/springfox-demos/labels/bug, Remaining: 3180, Total: 69 ms',\n",
       " 'DEBUG, 2017-03-23T11:11:50+00:00, ghtorrent-8 -- ghtorrent.rb: User ffachrial exists',\n",
       " 'DEBUG, 2017-03-23T11:05:54+00:00, ghtorrent-24 -- retriever.rb: Commit isimluk/party_registry -> 123a9558b3c34f2689d98ba0897ff6eb8928b84c exists',\n",
       " 'DEBUG, 2017-03-23T10:58:36+00:00, ghtorrent-28 -- api_client.rb: Sleeping for 101 seconds',\n",
       " 'INFO, 2017-03-23T12:50:22+00:00, ghtorrent-38 -- ghtorrent.rb: Added pullreq_commit a4f86d42de8a03f675a7fc26cc4ba0a9a60c83c2 to simonem/tiles-rapIoT -> 28',\n",
       " 'DEBUG, 2017-03-24T12:48:44+00:00, ghtorrent-49 -- ghtorrent.rb: Repo yuukikatagiri/animate.css exists']"
      ]
     },
     "execution_count": 9,
     "metadata": {},
     "output_type": "execute_result"
    }
   ],
   "source": [
    "rdd.takeSample(False, 20, 1234)"
   ]
  },
  {
   "cell_type": "code",
   "execution_count": 9,
   "id": "0960f8c2-eb41-4f35-89f2-72afa1f5d332",
   "metadata": {},
   "outputs": [],
   "source": [
    "import re\n",
    "def collect_words(line):\n",
    "    return re.compile('\\w+').findall(line.lower())"
   ]
  },
  {
   "cell_type": "code",
   "execution_count": 14,
   "id": "5faca282-41ba-4396-ae43-2acf0a9b7147",
   "metadata": {},
   "outputs": [
    {
     "name": "stdout",
     "output_type": "stream",
     "text": [
      "['hello', 'there', 'who', 'are', 'you']\n"
     ]
    }
   ],
   "source": [
    "print(collect_words('Hello There! Who are you??'))"
   ]
  },
  {
   "cell_type": "code",
   "execution_count": null,
   "id": "277c14da-e002-4fa6-978a-cac51fb4c819",
   "metadata": {},
   "outputs": [],
   "source": [
    "# Number of lines with both transaction and repo in the lines"
   ]
  },
  {
   "cell_type": "code",
   "execution_count": 20,
   "id": "8aa1b8a8-6585-428e-a670-ff79cdc71101",
   "metadata": {},
   "outputs": [
    {
     "name": "stderr",
     "output_type": "stream",
     "text": [
      "                                                                                \r"
     ]
    },
    {
     "data": {
      "text/plain": [
       "19"
      ]
     },
     "execution_count": 20,
     "metadata": {},
     "output_type": "execute_result"
    }
   ],
   "source": [
    "rdd_transactions = rdd.filter(lambda line: 'transaction' in collect_words(line))\n",
    "rdd_repos = rdd.filter(lambda line: 'repo' in collect_words(line))\n",
    "rdd_intersection = rdd_transactions.intersection(rdd_repos)\n",
    "rdd_intersection.count()"
   ]
  },
  {
   "cell_type": "code",
   "execution_count": 21,
   "id": "b07f17c4-e33e-4959-b3bc-eeebc8a43012",
   "metadata": {},
   "outputs": [
    {
     "name": "stderr",
     "output_type": "stream",
     "text": [
      "                                                                                \r"
     ]
    },
    {
     "data": {
      "text/plain": [
       "['INFO, 2017-03-23T09:13:16+00:00, ghtorrent-9 -- ghtorrent.rb: Repo xuminwlt/tcc-transaction is a fork of changmingxie/tcc-transaction',\n",
       " 'DEBUG, 2017-03-23T09:13:17+00:00, ghtorrent-9 -- retriever.rb: Repo xuminwlt -> tcc-transaction exists',\n",
       " 'DEBUG, 2017-03-23T09:13:17+00:00, ghtorrent-9 -- ghtorrent.rb: Repo xuminwlt/tcc-transaction exists',\n",
       " 'INFO, 2017-03-23T09:13:17+00:00, ghtorrent-9 -- ghtorrent.rb: Added repo xuminwlt/tcc-transaction',\n",
       " 'INFO, 2017-03-23T09:13:16+00:00, ghtorrent-9 -- retriever.rb: Added repo xuminwlt -> tcc-transaction',\n",
       " 'DEBUG, 2017-03-23T09:13:28+00:00, ghtorrent-9 -- ghtorrent.rb: Repo xuminwlt/tcc-transaction exists',\n",
       " 'DEBUG, 2017-03-23T09:13:17+00:00, ghtorrent-9 -- ghtorrent.rb: Repo changmingxie/tcc-transaction exists',\n",
       " 'DEBUG, 2017-03-23T09:13:16+00:00, ghtorrent-9 -- ghtorrent.rb: Repo changmingxie/tcc-transaction exists',\n",
       " 'DEBUG, 2017-03-23T09:13:27+00:00, ghtorrent-9 -- ghtorrent.rb: Repo xuminwlt/tcc-transaction exists',\n",
       " 'DEBUG, 2017-03-23T09:26:01+00:00, ghtorrent-11 -- ghtorrent.rb: Repo jwpttcg66/redis-game-transaction exists',\n",
       " 'DEBUG, 2017-03-23T09:13:17+00:00, ghtorrent-9 -- retriever.rb: Repo changmingxie -> tcc-transaction exists',\n",
       " 'DEBUG, 2017-03-23T10:28:03+00:00, ghtorrent-33 -- ghtorrent.rb: Repo jwpttcg66/redis-game-transaction exists',\n",
       " 'DEBUG, 2017-03-23T09:13:26+00:00, ghtorrent-9 -- ghtorrent.rb: Association of commit 5793a7df39a26b46082cafb59f287e2dc2cf9796 with repo xuminwlt/tcc-transaction exists',\n",
       " 'DEBUG, 2017-03-23T09:13:26+00:00, ghtorrent-9 -- ghtorrent.rb: Repo xuminwlt/tcc-transaction exists',\n",
       " 'DEBUG, 2017-03-23T09:27:31+00:00, ghtorrent-24 -- ghtorrent.rb: Repo changmingxie/tcc-transaction exists',\n",
       " 'DEBUG, 2017-03-23T11:09:37+00:00, ghtorrent-1 -- ghtorrent.rb: Repo pilkyoon/spring-transaction exists',\n",
       " 'DEBUG, 2017-03-23T09:13:16+00:00, ghtorrent-9 -- ghtorrent.rb: Repo xuminwlt/tcc-transaction exists',\n",
       " 'DEBUG, 2017-03-23T13:03:33+00:00, ghtorrent-42 -- ghtorrent.rb: Repo jwpttcg66/redis-game-transaction exists',\n",
       " 'INFO, 2017-03-23T09:13:17+00:00, ghtorrent-9 -- ghtorrent.rb: Repo xuminwlt/tcc-transaction was forked at changmingxie/tcc-transaction:5793a7df39a26b46082cafb59f287e2dc2cf9796']"
      ]
     },
     "execution_count": 21,
     "metadata": {},
     "output_type": "execute_result"
    }
   ],
   "source": [
    "rdd_intersection.collect()"
   ]
  },
  {
   "cell_type": "code",
   "execution_count": null,
   "id": "e5b4681c-149d-48cf-badd-130e1e4ed5c9",
   "metadata": {},
   "outputs": [],
   "source": [
    "# Number of lines including web link for WARN log level"
   ]
  },
  {
   "cell_type": "code",
   "execution_count": 23,
   "id": "0acd7c1d-f7fc-4a51-8f04-871a70bfd12d",
   "metadata": {},
   "outputs": [
    {
     "data": {
      "text/plain": [
       "['https://google.com']"
      ]
     },
     "execution_count": 23,
     "metadata": {},
     "output_type": "execute_result"
    }
   ],
   "source": [
    "def getUrl(line):\n",
    "    return re.findall(r'http[s]?://(?:[-\\w.]|(?:%[\\da-zA-Z]{2,}))+', line)\n",
    "getUrl('Hello There! https://google.com')"
   ]
  },
  {
   "cell_type": "code",
   "execution_count": 24,
   "id": "b490d3cd-84f4-4726-a1f8-ba174c8f118d",
   "metadata": {},
   "outputs": [
    {
     "name": "stderr",
     "output_type": "stream",
     "text": [
      "                                                                                \r"
     ]
    },
    {
     "data": {
      "text/plain": [
       "95329"
      ]
     },
     "execution_count": 24,
     "metadata": {},
     "output_type": "execute_result"
    }
   ],
   "source": [
    "rdd.filter(lambda line: line.split(',')[0] == 'WARN').filter(lambda line: len(getUrl(line)) > 0).count()"
   ]
  },
  {
   "cell_type": "code",
   "execution_count": null,
   "id": "a0bfe361-9eba-4930-a605-db4e6cd3d890",
   "metadata": {},
   "outputs": [],
   "source": [
    "# What is the mot active downloader id for failed connections?"
   ]
  },
  {
   "cell_type": "code",
   "execution_count": 25,
   "id": "3df1197f-3fe5-4eb7-a97e-dc110a7a2464",
   "metadata": {},
   "outputs": [
    {
     "name": "stderr",
     "output_type": "stream",
     "text": [
      "                                                                                \r"
     ]
    },
    {
     "data": {
      "text/plain": [
       "['INFO, 2017-03-22T20:11:49+00:00, ghtorrent-31 -- ghtorrent.rb: Added pullreq_commit 244eeac28bf419642d5d5c3b388bd2999c8c72e6 to tgstation/tgstation -> 25341',\n",
       " 'DEBUG, 2017-03-23T11:15:14+00:00, ghtorrent-30 -- retriever.rb: Commit mzvast/FlappyFrog -> 80bf5c5fde7be6274a2721422f4d9a773583f73c exists',\n",
       " 'DEBUG, 2017-03-22T20:15:48+00:00, ghtorrent-35 -- ghtorrent.rb: Parent af8451e16e077f7c6cae3f98bf43bffaca562f88 for commit 2ef393531a3cfbecc69f17d2cedcc95662fae1e6 exists',\n",
       " 'DEBUG, 2017-03-24T12:29:50+00:00, ghtorrent-49 -- ghtorrent.rb: Parent cf060bf3b789ac6391b2f7c1cdc34191c2bc773d for commit 8c924c1115e1abddcaddc27c6e7fd5806583ea90 exists',\n",
       " 'DEBUG, 2017-03-23T09:00:44+00:00, ghtorrent-8 -- retriever.rb: Commit iamtheanon/d3 -> a7caf9375fe14d7235562af541fe9decf499bbfb exists',\n",
       " 'DEBUG, 2017-03-24T10:52:47+00:00, ghtorrent-50 -- ghtorrent.rb: Repo alyuev/urantia-study-edition exists',\n",
       " 'DEBUG, 2017-03-23T11:02:10+00:00, ghtorrent-45 -- retriever.rb: Commit heycalmdown/node-confluence -> 2900cc8718deb2453ff39c909d2563d96227fb3f exists',\n",
       " 'INFO, 2017-03-23T10:31:57+00:00, ghtorrent-45 -- retriever.rb: Added commit patrickTingen/DataDigger -> d807d38fe9b9bd1325d45d69752fbabd89d73d96',\n",
       " 'INFO, 2017-03-22T20:14:31+00:00, ghtorrent-32 -- ghtorrent.rb: Added commit_assoc of cfd33b7282e5b03e4dc5c2509564e2189cd69af7 with RicardoGuzmanVelasco/Unity-Beat-Detection',\n",
       " 'DEBUG, 2017-03-23T11:03:03+00:00, ghtorrent-39 -- ghtorrent.rb: Transaction committed (618 ms)']"
      ]
     },
     "execution_count": 25,
     "metadata": {},
     "output_type": "execute_result"
    }
   ],
   "source": [
    "rdd.take(10)"
   ]
  },
  {
   "cell_type": "code",
   "execution_count": 26,
   "id": "3ec327ec-fc73-4e42-a1ce-5ab808051059",
   "metadata": {},
   "outputs": [],
   "source": [
    "rdd_failed = rdd.filter(lambda line: 'failed' in collect_words(line))\n",
    "rdd_active_ids = rdd_failed.map(lambda line: (line.replace('--',',').split(',')[2].split('-')[1], 1) )"
   ]
  },
  {
   "cell_type": "code",
   "execution_count": 27,
   "id": "6f0090e7-cb4e-40f7-a4ea-bdd70b3ec572",
   "metadata": {},
   "outputs": [
    {
     "name": "stderr",
     "output_type": "stream",
     "text": [
      "                                                                                \r"
     ]
    },
    {
     "data": {
      "text/plain": [
       "[('13 ', 1),\n",
       " ('13 ', 1),\n",
       " ('13 ', 1),\n",
       " ('39 ', 1),\n",
       " ('13 ', 1),\n",
       " ('21 ', 1),\n",
       " ('13 ', 1),\n",
       " ('21 ', 1),\n",
       " ('20 ', 1),\n",
       " ('13 ', 1)]"
      ]
     },
     "execution_count": 27,
     "metadata": {},
     "output_type": "execute_result"
    }
   ],
   "source": [
    "rdd_active_ids.take(10)"
   ]
  },
  {
   "cell_type": "code",
   "execution_count": 28,
   "id": "f27c7894-4f8a-4f7c-b208-5036cc8bb63b",
   "metadata": {},
   "outputs": [
    {
     "name": "stderr",
     "output_type": "stream",
     "text": [
      "                                                                                \r"
     ]
    }
   ],
   "source": [
    "rdd_result = rdd_active_ids.groupByKey(4).mapValues(sum).sortBy(lambda x: x[1], ascending=False)"
   ]
  },
  {
   "cell_type": "code",
   "execution_count": 29,
   "id": "56dfef2a-11c9-4768-bf64-1a9afb229817",
   "metadata": {},
   "outputs": [
    {
     "data": {
      "text/plain": [
       "('13 ', 79654)"
      ]
     },
     "execution_count": 29,
     "metadata": {},
     "output_type": "execute_result"
    }
   ],
   "source": [
    "rdd_result.first()"
   ]
  },
  {
   "cell_type": "code",
   "execution_count": 30,
   "id": "f480f4c1-0d6b-4beb-a673-45f3f4881411",
   "metadata": {},
   "outputs": [
    {
     "name": "stderr",
     "output_type": "stream",
     "text": [
      "                                                                                \r"
     ]
    },
    {
     "data": {
      "text/plain": [
       "('13 ', 79654)"
      ]
     },
     "execution_count": 30,
     "metadata": {},
     "output_type": "execute_result"
    }
   ],
   "source": [
    "rdd_active_ids.reduceByKey(lambda a,b: a+b).sortBy(lambda x: x[1], ascending=False).first()"
   ]
  },
  {
   "cell_type": "code",
   "execution_count": null,
   "id": "30e0bd59-a3a5-45ff-880f-345356669448",
   "metadata": {},
   "outputs": [],
   "source": [
    "# What is the most active repository?"
   ]
  },
  {
   "cell_type": "code",
   "execution_count": 33,
   "id": "44930539-87ff-4d4f-aa21-8ce010b24106",
   "metadata": {},
   "outputs": [
    {
     "data": {
      "text/plain": [
       "'alyuev/urantia'"
      ]
     },
     "execution_count": 33,
     "metadata": {},
     "output_type": "execute_result"
    }
   ],
   "source": [
    "def get_repo(line):\n",
    "    try:\n",
    "        return re.compile('\\w+/\\w+').findall(line.lower())[0]\n",
    "    except:\n",
    "        return None\n",
    "get_repo('DEBUG, 2017-03-24T10:52:47+00:00, ghtorrent-50 -- ghtorrent.rb: Repo alyuev/urantia-study-edition exists')"
   ]
  },
  {
   "cell_type": "code",
   "execution_count": 38,
   "id": "a1cb636b-31df-4fba-af41-be0308eb1c5b",
   "metadata": {},
   "outputs": [
    {
     "name": "stderr",
     "output_type": "stream",
     "text": [
      "                                                                                \r"
     ]
    },
    {
     "data": {
      "text/plain": [
       "('com/repos', 884219)"
      ]
     },
     "execution_count": 38,
     "metadata": {},
     "output_type": "execute_result"
    }
   ],
   "source": [
    "rdd.map(lambda line: get_repo(line)).filter(lambda repo: repo is not None).map(lambda repo: (repo,1)).reduceByKey(lambda a,b: a+b).sortBy(lambda x: x[1], ascending=False).first()"
   ]
  }
 ],
 "metadata": {
  "kernelspec": {
   "display_name": "Python 3 (ipykernel)",
   "language": "python",
   "name": "python3"
  },
  "language_info": {
   "codemirror_mode": {
    "name": "ipython",
    "version": 3
   },
   "file_extension": ".py",
   "mimetype": "text/x-python",
   "name": "python",
   "nbconvert_exporter": "python",
   "pygments_lexer": "ipython3",
   "version": "3.10.6"
  }
 },
 "nbformat": 4,
 "nbformat_minor": 5
}

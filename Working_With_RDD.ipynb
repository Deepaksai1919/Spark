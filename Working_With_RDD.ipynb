{
  "nbformat": 4,
  "nbformat_minor": 0,
  "metadata": {
    "colab": {
      "provenance": [],
      "authorship_tag": "ABX9TyMdSII57nJ47MZagNrMcNk7",
      "include_colab_link": true
    },
    "kernelspec": {
      "name": "python3",
      "display_name": "Python 3"
    },
    "language_info": {
      "name": "python"
    }
  },
  "cells": [
    {
      "cell_type": "markdown",
      "metadata": {
        "id": "view-in-github",
        "colab_type": "text"
      },
      "source": [
        "<a href=\"https://colab.research.google.com/github/Deepaksai1919/Spark/blob/DrAminKarami-Udemy/Working_With_RDD.ipynb\" target=\"_parent\"><img src=\"https://colab.research.google.com/assets/colab-badge.svg\" alt=\"Open In Colab\"/></a>"
      ]
    },
    {
      "cell_type": "markdown",
      "source": [
        "# **RDD**: Resilient Distributed Dataset.\n",
        "It is a fundamental datastructure of Spark. It is *fault-tolerant*, *immutable* *distributed collection* of any type of objects.\n",
        "\n",
        "https://spark.apache.org/docs/latest/rdd-programming-guide.html"
      ],
      "metadata": {
        "id": "zuO5-S6xWH5d"
      }
    },
    {
      "cell_type": "code",
      "execution_count": 1,
      "metadata": {
        "colab": {
          "base_uri": "https://localhost:8080/"
        },
        "id": "VeC1L_VLWE0h",
        "outputId": "0e918788-1650-45a5-dddc-edb36d5ea177"
      },
      "outputs": [
        {
          "output_type": "stream",
          "name": "stdout",
          "text": [
            "Looking in indexes: https://pypi.org/simple, https://us-python.pkg.dev/colab-wheels/public/simple/\n",
            "Collecting pyspark\n",
            "  Downloading pyspark-3.4.0.tar.gz (310.8 MB)\n",
            "\u001b[2K     \u001b[90m━━━━━━━━━━━━━━━━━━━━━━━━━━━━━━━━━━━━━━━\u001b[0m \u001b[32m310.8/310.8 MB\u001b[0m \u001b[31m4.2 MB/s\u001b[0m eta \u001b[36m0:00:00\u001b[0m\n",
            "\u001b[?25h  Preparing metadata (setup.py) ... \u001b[?25l\u001b[?25hdone\n",
            "Requirement already satisfied: py4j==0.10.9.7 in /usr/local/lib/python3.10/dist-packages (from pyspark) (0.10.9.7)\n",
            "Building wheels for collected packages: pyspark\n",
            "  Building wheel for pyspark (setup.py) ... \u001b[?25l\u001b[?25hdone\n",
            "  Created wheel for pyspark: filename=pyspark-3.4.0-py2.py3-none-any.whl size=311317130 sha256=d0a25b1bd6f92bb2ed94b2c5f0b0033b5d3ad7ffe50dca759d932ec63e30b80a\n",
            "  Stored in directory: /root/.cache/pip/wheels/7b/1b/4b/3363a1d04368e7ff0d408e57ff57966fcdf00583774e761327\n",
            "Successfully built pyspark\n",
            "Installing collected packages: pyspark\n",
            "Successfully installed pyspark-3.4.0\n"
          ]
        }
      ],
      "source": [
        "!pip3 install pyspark"
      ]
    },
    {
      "cell_type": "code",
      "source": [
        "from pyspark import SparkContext, SparkConf\n",
        "\n",
        "conf = SparkConf().setAppName('RDD_Practice').setMaster('local[*]')\n",
        "sc = SparkContext(conf = conf)\n",
        "print(sc)"
      ],
      "metadata": {
        "colab": {
          "base_uri": "https://localhost:8080/"
        },
        "id": "AQDsTh8_XcDd",
        "outputId": "61d75abe-f22e-4819-e39c-edd30854ab47"
      },
      "execution_count": 2,
      "outputs": [
        {
          "output_type": "stream",
          "name": "stdout",
          "text": [
            "<SparkContext master=local[*] appName=RDD_Practice>\n"
          ]
        }
      ]
    },
    {
      "cell_type": "code",
      "source": [
        "import random\n",
        "sampleList = random.sample(range(0,40), 10)\n",
        "print(sampleList)"
      ],
      "metadata": {
        "colab": {
          "base_uri": "https://localhost:8080/"
        },
        "id": "wBp7OjiNX04a",
        "outputId": "d4343382-dc31-41b2-bf25-955c1094331c"
      },
      "execution_count": 3,
      "outputs": [
        {
          "output_type": "stream",
          "name": "stdout",
          "text": [
            "[4, 20, 37, 2, 24, 21, 32, 5, 35, 29]\n"
          ]
        }
      ]
    },
    {
      "cell_type": "markdown",
      "source": [
        "`parallelize` will create the distributed dataset into defined number of partitions"
      ],
      "metadata": {
        "id": "nqspKmiDYiV2"
      }
    },
    {
      "cell_type": "code",
      "source": [
        "rdd1 = sc.parallelize(sampleList, 4)"
      ],
      "metadata": {
        "id": "K-vjbhSQYNC7"
      },
      "execution_count": 4,
      "outputs": []
    },
    {
      "cell_type": "code",
      "source": [
        "rdd1.getNumPartitions()"
      ],
      "metadata": {
        "colab": {
          "base_uri": "https://localhost:8080/"
        },
        "id": "jVIDul2-YsO4",
        "outputId": "c2532d74-7d3e-42ed-9c9c-e7f4e65b87d1"
      },
      "execution_count": 5,
      "outputs": [
        {
          "output_type": "execute_result",
          "data": {
            "text/plain": [
              "4"
            ]
          },
          "metadata": {},
          "execution_count": 5
        }
      ]
    },
    {
      "cell_type": "markdown",
      "source": [
        "parallelize will consider the default parallelism to number of cores allocated"
      ],
      "metadata": {
        "id": "mcXap-knY7e0"
      }
    },
    {
      "cell_type": "code",
      "source": [
        "sc.parallelize(sampleList).getNumPartitions(), sc.defaultParallelism"
      ],
      "metadata": {
        "colab": {
          "base_uri": "https://localhost:8080/"
        },
        "id": "dqcTxe92Yv03",
        "outputId": "e792b29b-5dad-4ffa-c3ce-36882ed74896"
      },
      "execution_count": 6,
      "outputs": [
        {
          "output_type": "execute_result",
          "data": {
            "text/plain": [
              "(2, 2)"
            ]
          },
          "metadata": {},
          "execution_count": 6
        }
      ]
    },
    {
      "cell_type": "code",
      "source": [
        "rdd1.collect()"
      ],
      "metadata": {
        "colab": {
          "base_uri": "https://localhost:8080/"
        },
        "id": "2K6z-NjWZRdh",
        "outputId": "efc56435-45da-4f8b-ff18-712b2d21c935"
      },
      "execution_count": 7,
      "outputs": [
        {
          "output_type": "execute_result",
          "data": {
            "text/plain": [
              "[4, 20, 37, 2, 24, 21, 32, 5, 35, 29]"
            ]
          },
          "metadata": {},
          "execution_count": 7
        }
      ]
    },
    {
      "cell_type": "markdown",
      "source": [
        "using `.glom()`, we can see the data in each partition"
      ],
      "metadata": {
        "id": "F9id7b_YZYme"
      }
    },
    {
      "cell_type": "code",
      "source": [
        "rdd1.glom().collect()"
      ],
      "metadata": {
        "colab": {
          "base_uri": "https://localhost:8080/"
        },
        "id": "IO0bE-cAZJap",
        "outputId": "651550cd-f859-4216-88d4-11ec10be5add"
      },
      "execution_count": 8,
      "outputs": [
        {
          "output_type": "execute_result",
          "data": {
            "text/plain": [
              "[[4, 20], [37, 2], [24, 21], [32, 5, 35, 29]]"
            ]
          },
          "metadata": {},
          "execution_count": 8
        }
      ]
    },
    {
      "cell_type": "markdown",
      "source": [
        "We can see the numbers in each of the 4 partitions created"
      ],
      "metadata": {
        "id": "mGgOsDhyZ1kb"
      }
    },
    {
      "cell_type": "markdown",
      "source": [
        "With real datasets, the size is often huge and `collect()` will send all the data to driver which is not advisable. So we can use `.take(n)` instead to see the first n number of records."
      ],
      "metadata": {
        "id": "J0wmi9ZAbMav"
      }
    },
    {
      "cell_type": "code",
      "source": [
        "print(rdd1.glom().take(2))\n",
        "print(rdd1.take(2))"
      ],
      "metadata": {
        "colab": {
          "base_uri": "https://localhost:8080/"
        },
        "id": "K_leCdMDbGwo",
        "outputId": "2a45f5cb-fcfd-4c3e-96ed-a7224bf0339d"
      },
      "execution_count": 12,
      "outputs": [
        {
          "output_type": "stream",
          "name": "stdout",
          "text": [
            "[[4, 20], [37, 2]]\n",
            "[4, 20]\n"
          ]
        }
      ]
    },
    {
      "cell_type": "markdown",
      "source": [
        "What if we create more number of partitions than data size?"
      ],
      "metadata": {
        "id": "JMV09dSfab6p"
      }
    },
    {
      "cell_type": "code",
      "source": [
        "sc.parallelize(sampleList, 15).glom().collect()"
      ],
      "metadata": {
        "colab": {
          "base_uri": "https://localhost:8080/"
        },
        "id": "xCaY_TpwZW92",
        "outputId": "d842ecae-fec6-43bb-f105-71e0794f877c"
      },
      "execution_count": 9,
      "outputs": [
        {
          "output_type": "execute_result",
          "data": {
            "text/plain": [
              "[[], [4], [20], [], [37], [2], [], [24], [21], [], [32], [5], [], [35], [29]]"
            ]
          },
          "metadata": {},
          "execution_count": 9
        }
      ]
    },
    {
      "cell_type": "markdown",
      "source": [
        "Empty partitions will get created as above."
      ],
      "metadata": {
        "id": "Hy3cxiSYaq_3"
      }
    },
    {
      "cell_type": "code",
      "source": [
        "rdd1.count()"
      ],
      "metadata": {
        "colab": {
          "base_uri": "https://localhost:8080/"
        },
        "id": "a5cE9y9eanGG",
        "outputId": "734f9502-996e-42e3-f9ec-8635d0d467ff"
      },
      "execution_count": 13,
      "outputs": [
        {
          "output_type": "execute_result",
          "data": {
            "text/plain": [
              "10"
            ]
          },
          "metadata": {},
          "execution_count": 13
        }
      ]
    },
    {
      "cell_type": "code",
      "source": [
        "rdd1.glom().count()"
      ],
      "metadata": {
        "colab": {
          "base_uri": "https://localhost:8080/"
        },
        "id": "EVE9Z5vCb3EI",
        "outputId": "f749ecd7-f175-4816-a0b5-e2f216250a50"
      },
      "execution_count": 14,
      "outputs": [
        {
          "output_type": "execute_result",
          "data": {
            "text/plain": [
              "4"
            ]
          },
          "metadata": {},
          "execution_count": 14
        }
      ]
    },
    {
      "cell_type": "code",
      "source": [
        "rdd1.first()\n",
        "# This is the first element in the rdd"
      ],
      "metadata": {
        "colab": {
          "base_uri": "https://localhost:8080/"
        },
        "id": "5mQmXfh-b5Rr",
        "outputId": "6f62e686-28df-4cea-baab-3a039ae216a2"
      },
      "execution_count": 15,
      "outputs": [
        {
          "output_type": "execute_result",
          "data": {
            "text/plain": [
              "4"
            ]
          },
          "metadata": {},
          "execution_count": 15
        }
      ]
    },
    {
      "cell_type": "code",
      "source": [
        "rdd1.glom().first()"
      ],
      "metadata": {
        "colab": {
          "base_uri": "https://localhost:8080/"
        },
        "id": "6gu2QlBib_Jx",
        "outputId": "2338e921-c77d-4743-b59a-674cf2d9a4e0"
      },
      "execution_count": 16,
      "outputs": [
        {
          "output_type": "execute_result",
          "data": {
            "text/plain": [
              "[4, 20]"
            ]
          },
          "metadata": {},
          "execution_count": 16
        }
      ]
    }
  ]
}
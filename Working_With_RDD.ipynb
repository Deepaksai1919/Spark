{
  "nbformat": 4,
  "nbformat_minor": 0,
  "metadata": {
    "colab": {
      "provenance": [],
      "authorship_tag": "ABX9TyMfG/l4g/LmfzpCJg0hvF+d",
      "include_colab_link": true
    },
    "kernelspec": {
      "name": "python3",
      "display_name": "Python 3"
    },
    "language_info": {
      "name": "python"
    }
  },
  "cells": [
    {
      "cell_type": "markdown",
      "metadata": {
        "id": "view-in-github",
        "colab_type": "text"
      },
      "source": [
        "<a href=\"https://colab.research.google.com/github/Deepaksai1919/Spark/blob/DrAminKarami-Udemy/Working_With_RDD.ipynb\" target=\"_parent\"><img src=\"https://colab.research.google.com/assets/colab-badge.svg\" alt=\"Open In Colab\"/></a>"
      ]
    },
    {
      "cell_type": "markdown",
      "source": [
        "# **RDD**: Resilient Distributed Dataset.\n",
        "It is a fundamental datastructure of Spark. It is *fault-tolerant*, *immutable* *distributed collection* of any type of objects.\n",
        "\n",
        "https://spark.apache.org/docs/latest/rdd-programming-guide.html"
      ],
      "metadata": {
        "id": "zuO5-S6xWH5d"
      }
    },
    {
      "cell_type": "code",
      "execution_count": 2,
      "metadata": {
        "colab": {
          "base_uri": "https://localhost:8080/"
        },
        "id": "VeC1L_VLWE0h",
        "outputId": "53f0a47c-bf1f-4e80-eeea-bacb18f31ef9"
      },
      "outputs": [
        {
          "output_type": "stream",
          "name": "stdout",
          "text": [
            "Looking in indexes: https://pypi.org/simple, https://us-python.pkg.dev/colab-wheels/public/simple/\n",
            "Collecting pyspark\n",
            "  Downloading pyspark-3.4.0.tar.gz (310.8 MB)\n",
            "\u001b[2K     \u001b[90m━━━━━━━━━━━━━━━━━━━━━━━━━━━━━━━━━━━━━━━\u001b[0m \u001b[32m310.8/310.8 MB\u001b[0m \u001b[31m2.7 MB/s\u001b[0m eta \u001b[36m0:00:00\u001b[0m\n",
            "\u001b[?25h  Preparing metadata (setup.py) ... \u001b[?25l\u001b[?25hdone\n",
            "Requirement already satisfied: py4j==0.10.9.7 in /usr/local/lib/python3.10/dist-packages (from pyspark) (0.10.9.7)\n",
            "Building wheels for collected packages: pyspark\n",
            "  Building wheel for pyspark (setup.py) ... \u001b[?25l\u001b[?25hdone\n",
            "  Created wheel for pyspark: filename=pyspark-3.4.0-py2.py3-none-any.whl size=311317130 sha256=a11a8801437e60418d5c6c12f103db77dcf4d040838a2e394fcfec479cc79b0c\n",
            "  Stored in directory: /root/.cache/pip/wheels/7b/1b/4b/3363a1d04368e7ff0d408e57ff57966fcdf00583774e761327\n",
            "Successfully built pyspark\n",
            "Installing collected packages: pyspark\n",
            "Successfully installed pyspark-3.4.0\n"
          ]
        }
      ],
      "source": [
        "!pip3 install pyspark"
      ]
    },
    {
      "cell_type": "code",
      "source": [
        "from pyspark import SparkContext, SparkConf\n",
        "\n",
        "conf = SparkConf().setAppName('RDD_Practice').setMaster('local[*]')\n",
        "sc = SparkContext(conf = conf)\n",
        "print(sc)"
      ],
      "metadata": {
        "colab": {
          "base_uri": "https://localhost:8080/"
        },
        "id": "AQDsTh8_XcDd",
        "outputId": "4f6bbdb9-e229-452a-e878-fc7d636718e8"
      },
      "execution_count": 3,
      "outputs": [
        {
          "output_type": "stream",
          "name": "stdout",
          "text": [
            "<SparkContext master=local[*] appName=RDD_Practice>\n"
          ]
        }
      ]
    },
    {
      "cell_type": "code",
      "source": [
        "import random\n",
        "sampleList = random.sample(range(0,40), 10)\n",
        "print(sampleList)"
      ],
      "metadata": {
        "colab": {
          "base_uri": "https://localhost:8080/"
        },
        "id": "wBp7OjiNX04a",
        "outputId": "28634d86-52d8-4f1b-e85d-32825948cd81"
      },
      "execution_count": 4,
      "outputs": [
        {
          "output_type": "stream",
          "name": "stdout",
          "text": [
            "[1, 6, 19, 13, 22, 28, 21, 29, 2, 10]\n"
          ]
        }
      ]
    },
    {
      "cell_type": "markdown",
      "source": [
        "`parallelize` will create the distributed dataset into defined number of partitions"
      ],
      "metadata": {
        "id": "nqspKmiDYiV2"
      }
    },
    {
      "cell_type": "code",
      "source": [
        "rdd1 = sc.parallelize(sampleList, 4)"
      ],
      "metadata": {
        "id": "K-vjbhSQYNC7"
      },
      "execution_count": 5,
      "outputs": []
    },
    {
      "cell_type": "code",
      "source": [
        "rdd1.getNumPartitions()"
      ],
      "metadata": {
        "colab": {
          "base_uri": "https://localhost:8080/"
        },
        "id": "jVIDul2-YsO4",
        "outputId": "a12ece4f-9000-46f0-bb61-4ddc19d8670b"
      },
      "execution_count": 6,
      "outputs": [
        {
          "output_type": "execute_result",
          "data": {
            "text/plain": [
              "4"
            ]
          },
          "metadata": {},
          "execution_count": 6
        }
      ]
    },
    {
      "cell_type": "markdown",
      "source": [
        "parallelize will consider the default parallelism to number of cores allocated"
      ],
      "metadata": {
        "id": "mcXap-knY7e0"
      }
    },
    {
      "cell_type": "code",
      "source": [
        "sc.parallelize(sampleList).getNumPartitions(), sc.defaultParallelism"
      ],
      "metadata": {
        "colab": {
          "base_uri": "https://localhost:8080/"
        },
        "id": "dqcTxe92Yv03",
        "outputId": "bf459d2c-332a-4b4a-d877-848331e1d179"
      },
      "execution_count": 7,
      "outputs": [
        {
          "output_type": "execute_result",
          "data": {
            "text/plain": [
              "(2, 2)"
            ]
          },
          "metadata": {},
          "execution_count": 7
        }
      ]
    },
    {
      "cell_type": "code",
      "source": [
        "rdd1.collect()"
      ],
      "metadata": {
        "colab": {
          "base_uri": "https://localhost:8080/"
        },
        "id": "2K6z-NjWZRdh",
        "outputId": "af4b354f-646b-4301-bfad-08ccb5a96303"
      },
      "execution_count": 8,
      "outputs": [
        {
          "output_type": "execute_result",
          "data": {
            "text/plain": [
              "[1, 6, 19, 13, 22, 28, 21, 29, 2, 10]"
            ]
          },
          "metadata": {},
          "execution_count": 8
        }
      ]
    },
    {
      "cell_type": "markdown",
      "source": [
        "using `.glom()`, we can see the data in each partition"
      ],
      "metadata": {
        "id": "F9id7b_YZYme"
      }
    },
    {
      "cell_type": "code",
      "source": [
        "rdd1.glom().collect()"
      ],
      "metadata": {
        "colab": {
          "base_uri": "https://localhost:8080/"
        },
        "id": "IO0bE-cAZJap",
        "outputId": "2a097573-df96-45ca-875b-00723f0c7718"
      },
      "execution_count": 9,
      "outputs": [
        {
          "output_type": "execute_result",
          "data": {
            "text/plain": [
              "[[1, 6], [19, 13], [22, 28], [21, 29, 2, 10]]"
            ]
          },
          "metadata": {},
          "execution_count": 9
        }
      ]
    },
    {
      "cell_type": "markdown",
      "source": [
        "We can see the numbers in each of the 4 partitions created"
      ],
      "metadata": {
        "id": "mGgOsDhyZ1kb"
      }
    },
    {
      "cell_type": "markdown",
      "source": [
        "With real datasets, the size is often huge and `collect()` will send all the data to driver which is not advisable. So we can use `.take(n)` instead to see the first n number of records."
      ],
      "metadata": {
        "id": "J0wmi9ZAbMav"
      }
    },
    {
      "cell_type": "code",
      "source": [
        "print(rdd1.glom().take(2))\n",
        "print(rdd1.take(2))"
      ],
      "metadata": {
        "colab": {
          "base_uri": "https://localhost:8080/"
        },
        "id": "K_leCdMDbGwo",
        "outputId": "c7c16d3b-633c-48b4-bb09-1d41059d60f1"
      },
      "execution_count": 10,
      "outputs": [
        {
          "output_type": "stream",
          "name": "stdout",
          "text": [
            "[[1, 6], [19, 13]]\n",
            "[1, 6]\n"
          ]
        }
      ]
    },
    {
      "cell_type": "markdown",
      "source": [
        "What if we create more number of partitions than data size?"
      ],
      "metadata": {
        "id": "JMV09dSfab6p"
      }
    },
    {
      "cell_type": "code",
      "source": [
        "sc.parallelize(sampleList, 15).glom().collect()"
      ],
      "metadata": {
        "colab": {
          "base_uri": "https://localhost:8080/"
        },
        "id": "xCaY_TpwZW92",
        "outputId": "75a9befb-aa3b-4bc6-99e0-71bd61ac9c93"
      },
      "execution_count": 11,
      "outputs": [
        {
          "output_type": "execute_result",
          "data": {
            "text/plain": [
              "[[], [1], [6], [], [19], [13], [], [22], [28], [], [21], [29], [], [2], [10]]"
            ]
          },
          "metadata": {},
          "execution_count": 11
        }
      ]
    },
    {
      "cell_type": "markdown",
      "source": [
        "Empty partitions will get created as above."
      ],
      "metadata": {
        "id": "Hy3cxiSYaq_3"
      }
    },
    {
      "cell_type": "code",
      "source": [
        "rdd1.count()"
      ],
      "metadata": {
        "colab": {
          "base_uri": "https://localhost:8080/"
        },
        "id": "a5cE9y9eanGG",
        "outputId": "532807db-6cbd-4d5c-ed7a-7ddd1b2deb45"
      },
      "execution_count": 12,
      "outputs": [
        {
          "output_type": "execute_result",
          "data": {
            "text/plain": [
              "10"
            ]
          },
          "metadata": {},
          "execution_count": 12
        }
      ]
    },
    {
      "cell_type": "code",
      "source": [
        "rdd1.glom().count()"
      ],
      "metadata": {
        "colab": {
          "base_uri": "https://localhost:8080/"
        },
        "id": "EVE9Z5vCb3EI",
        "outputId": "298909eb-7004-4070-c0b4-5d64b9c55709"
      },
      "execution_count": 13,
      "outputs": [
        {
          "output_type": "execute_result",
          "data": {
            "text/plain": [
              "4"
            ]
          },
          "metadata": {},
          "execution_count": 13
        }
      ]
    },
    {
      "cell_type": "code",
      "source": [
        "rdd1.first()"
      ],
      "metadata": {
        "colab": {
          "base_uri": "https://localhost:8080/"
        },
        "id": "5mQmXfh-b5Rr",
        "outputId": "94aafaaa-86e7-47d5-8d85-932db00184dd"
      },
      "execution_count": 14,
      "outputs": [
        {
          "output_type": "execute_result",
          "data": {
            "text/plain": [
              "1"
            ]
          },
          "metadata": {},
          "execution_count": 14
        }
      ]
    },
    {
      "cell_type": "code",
      "source": [
        "rdd1.glom().first()"
      ],
      "metadata": {
        "colab": {
          "base_uri": "https://localhost:8080/"
        },
        "id": "6gu2QlBib_Jx",
        "outputId": "691d1def-6b62-4ab9-d19d-8065e60d0471"
      },
      "execution_count": 15,
      "outputs": [
        {
          "output_type": "execute_result",
          "data": {
            "text/plain": [
              "[1, 6]"
            ]
          },
          "metadata": {},
          "execution_count": 15
        }
      ]
    },
    {
      "cell_type": "markdown",
      "source": [
        "`.top(n)` will give the top n elements in decreasing order"
      ],
      "metadata": {
        "id": "yue-n1MJlAUy"
      }
    },
    {
      "cell_type": "code",
      "source": [
        "rdd1.top(2)"
      ],
      "metadata": {
        "colab": {
          "base_uri": "https://localhost:8080/"
        },
        "id": "SbLt0kOujrR2",
        "outputId": "9a23761c-bee3-4a0a-fb7d-7deeef800467"
      },
      "execution_count": 17,
      "outputs": [
        {
          "output_type": "execute_result",
          "data": {
            "text/plain": [
              "[29, 28]"
            ]
          },
          "metadata": {},
          "execution_count": 17
        }
      ]
    },
    {
      "cell_type": "code",
      "source": [
        "sorted(sampleList, reverse=True)[:2]"
      ],
      "metadata": {
        "colab": {
          "base_uri": "https://localhost:8080/"
        },
        "id": "k0r7uslDjusN",
        "outputId": "682dc09e-048f-4977-9256-fe46de08b54a"
      },
      "execution_count": 19,
      "outputs": [
        {
          "output_type": "execute_result",
          "data": {
            "text/plain": [
              "[29, 28]"
            ]
          },
          "metadata": {},
          "execution_count": 19
        }
      ]
    },
    {
      "cell_type": "code",
      "source": [
        "print(rdd1.top(100))\n",
        "print(sorted(sampleList, reverse=True))"
      ],
      "metadata": {
        "colab": {
          "base_uri": "https://localhost:8080/"
        },
        "id": "sXhg7KoVk4RW",
        "outputId": "1c22b8de-f663-4ca7-b5b3-676930b70517"
      },
      "execution_count": 20,
      "outputs": [
        {
          "output_type": "stream",
          "name": "stdout",
          "text": [
            "[29, 28, 22, 21, 19, 13, 10, 6, 2, 1]\n",
            "[29, 28, 22, 21, 19, 13, 10, 6, 2, 1]\n"
          ]
        }
      ]
    },
    {
      "cell_type": "code",
      "source": [
        "rdd1.distinct().collect()"
      ],
      "metadata": {
        "colab": {
          "base_uri": "https://localhost:8080/"
        },
        "id": "jFgFGVS3k_FT",
        "outputId": "21608c74-4dee-4fb6-99c0-16864be18275"
      },
      "execution_count": 21,
      "outputs": [
        {
          "output_type": "execute_result",
          "data": {
            "text/plain": [
              "[28, 1, 13, 21, 29, 6, 22, 2, 10, 19]"
            ]
          },
          "metadata": {},
          "execution_count": 21
        }
      ]
    },
    {
      "cell_type": "markdown",
      "source": [
        "`.map(func)` returns a new rdd in which the each element of the new rdd is the return value of each element of old rdd from the function"
      ],
      "metadata": {
        "id": "Lmpo2y52mWzb"
      }
    },
    {
      "cell_type": "code",
      "source": [
        "def my_func(item):\n",
        "  return (item + 1) * 3\n",
        "\n",
        "rdd_map = rdd1.map(my_func)\n",
        "\n",
        "print(rdd1.collect())\n",
        "print(rdd_map.collect())"
      ],
      "metadata": {
        "colab": {
          "base_uri": "https://localhost:8080/"
        },
        "id": "8TiZWQ08l7EZ",
        "outputId": "4f3eb0b2-8249-4619-8c7c-d78bcd7963fa"
      },
      "execution_count": 23,
      "outputs": [
        {
          "output_type": "stream",
          "name": "stdout",
          "text": [
            "[1, 6, 19, 13, 22, 28, 21, 29, 2, 10]\n",
            "[6, 21, 60, 42, 69, 87, 66, 90, 9, 33]\n"
          ]
        }
      ]
    },
    {
      "cell_type": "markdown",
      "source": [
        "The data in each partition resides in the same partition when map is used"
      ],
      "metadata": {
        "id": "g6XcBJF0nslo"
      }
    },
    {
      "cell_type": "code",
      "source": [
        "print(rdd1.glom().collect())\n",
        "print(rdd_map.glom().collect())"
      ],
      "metadata": {
        "colab": {
          "base_uri": "https://localhost:8080/"
        },
        "id": "MHk3472HnLNV",
        "outputId": "b49e5349-0f45-49af-9e1d-6e279af5d0b8"
      },
      "execution_count": 25,
      "outputs": [
        {
          "output_type": "stream",
          "name": "stdout",
          "text": [
            "[[1, 6], [19, 13], [22, 28], [21, 29, 2, 10]]\n",
            "[[6, 21], [60, 42], [69, 87], [66, 90, 9, 33]]\n"
          ]
        }
      ]
    },
    {
      "cell_type": "code",
      "source": [
        "rdd_filter = rdd1.filter(lambda x: x%2 == 0)\n",
        "print(rdd1.collect())\n",
        "print(rdd_filter.collect())"
      ],
      "metadata": {
        "colab": {
          "base_uri": "https://localhost:8080/"
        },
        "id": "UIH4CC0zneQQ",
        "outputId": "399c3bf4-a3fd-4937-e53f-348e1f635ff5"
      },
      "execution_count": 26,
      "outputs": [
        {
          "output_type": "stream",
          "name": "stdout",
          "text": [
            "[1, 6, 19, 13, 22, 28, 21, 29, 2, 10]\n",
            "[6, 22, 28, 2, 10]\n"
          ]
        }
      ]
    },
    {
      "cell_type": "markdown",
      "source": [
        "using `.filter()` will select the elements which satisfy the condition with in each partition. If there is no element passing the condition in a partition, an empty partition will be created."
      ],
      "metadata": {
        "id": "VJtsYag2oQuI"
      }
    },
    {
      "cell_type": "code",
      "source": [
        "print(rdd1.glom().collect())\n",
        "print(rdd_filter.glom().collect())"
      ],
      "metadata": {
        "colab": {
          "base_uri": "https://localhost:8080/"
        },
        "id": "fnoI66P3oElf",
        "outputId": "fbe1297c-bf7a-4ffe-eab8-787b36c2bfd5"
      },
      "execution_count": 27,
      "outputs": [
        {
          "output_type": "stream",
          "name": "stdout",
          "text": [
            "[[1, 6], [19, 13], [22, 28], [21, 29, 2, 10]]\n",
            "[[6], [], [22, 28], [2, 10]]\n"
          ]
        }
      ]
    },
    {
      "cell_type": "markdown",
      "source": [
        "`.flatMap(func)` is same as `.map(func)` but each input item can be mapped to 0 or more output items. It should return a sequence instead of the elements. So `yield` should be used instead of `return`"
      ],
      "metadata": {
        "id": "lxeY5eBJpJtT"
      }
    },
    {
      "cell_type": "code",
      "source": [
        "rdd_flatMap = rdd1.flatMap(lambda x: [x+1, x+2])\n",
        "print(rdd1.collect())\n",
        "print(rdd_flatMap.collect())"
      ],
      "metadata": {
        "colab": {
          "base_uri": "https://localhost:8080/"
        },
        "id": "3qs9qPumoKdV",
        "outputId": "e790f0f5-a459-4b16-b7c4-8d0300a37d58"
      },
      "execution_count": 28,
      "outputs": [
        {
          "output_type": "stream",
          "name": "stdout",
          "text": [
            "[1, 6, 19, 13, 22, 28, 21, 29, 2, 10]\n",
            "[2, 3, 7, 8, 20, 21, 14, 15, 23, 24, 29, 30, 22, 23, 30, 31, 3, 4, 11, 12]\n"
          ]
        }
      ]
    },
    {
      "cell_type": "markdown",
      "source": [
        "Similar to map and filter, flatMap will also create the elements in the same partition"
      ],
      "metadata": {
        "id": "DLf1G_LpqWEx"
      }
    },
    {
      "cell_type": "code",
      "source": [
        "print(rdd1.glom().collect())\n",
        "print(rdd_flatMap.glom().collect())"
      ],
      "metadata": {
        "colab": {
          "base_uri": "https://localhost:8080/"
        },
        "id": "TvpRnKAvqGF5",
        "outputId": "cd2977d8-4516-4faa-a8bd-8548c8f362fb"
      },
      "execution_count": 29,
      "outputs": [
        {
          "output_type": "stream",
          "name": "stdout",
          "text": [
            "[[1, 6], [19, 13], [22, 28], [21, 29, 2, 10]]\n",
            "[[2, 3, 7, 8], [20, 21, 14, 15], [23, 24, 29, 30], [22, 23, 30, 31, 3, 4, 11, 12]]\n"
          ]
        }
      ]
    },
    {
      "cell_type": "code",
      "source": [
        "print(rdd1.collect())\n",
        "print(rdd1.map(lambda x: [x+1, x+2]).collect())"
      ],
      "metadata": {
        "colab": {
          "base_uri": "https://localhost:8080/"
        },
        "id": "L7l90zQOqRBL",
        "outputId": "227bd4b2-ca50-4e33-8049-920f39f7f2bb"
      },
      "execution_count": 30,
      "outputs": [
        {
          "output_type": "stream",
          "name": "stdout",
          "text": [
            "[1, 6, 19, 13, 22, 28, 21, 29, 2, 10]\n",
            "[[2, 3], [7, 8], [20, 21], [14, 15], [23, 24], [29, 30], [22, 23], [30, 31], [3, 4], [11, 12]]\n"
          ]
        }
      ]
    },
    {
      "cell_type": "code",
      "source": [
        "import pprint\n",
        "pprint.pprint(rdd1.map(lambda x: [x+1, x+2]).glom().collect())"
      ],
      "metadata": {
        "colab": {
          "base_uri": "https://localhost:8080/"
        },
        "id": "jOGxpaMqqwiw",
        "outputId": "39c9ca87-a3ee-41d6-a522-6c7cfb5f890e"
      },
      "execution_count": 33,
      "outputs": [
        {
          "output_type": "stream",
          "name": "stdout",
          "text": [
            "[[[2, 3], [7, 8]],\n",
            " [[20, 21], [14, 15]],\n",
            " [[23, 24], [29, 30]],\n",
            " [[22, 23], [30, 31], [3, 4], [11, 12]]]\n"
          ]
        }
      ]
    },
    {
      "cell_type": "code",
      "source": [
        "rdd_reduce = rdd1.reduce(lambda a,b: a + b)\n",
        "rdd_reduce"
      ],
      "metadata": {
        "colab": {
          "base_uri": "https://localhost:8080/"
        },
        "id": "lAZf6EO3q3fl",
        "outputId": "48ebf0aa-cd5d-4672-f206-c54059bbda1b"
      },
      "execution_count": 35,
      "outputs": [
        {
          "output_type": "execute_result",
          "data": {
            "text/plain": [
              "151"
            ]
          },
          "metadata": {},
          "execution_count": 35
        }
      ]
    },
    {
      "cell_type": "code",
      "source": [
        "# Descriptive statistics\n",
        "\n",
        "print([rdd1.max(), rdd1.min(), rdd1.sum(), rdd1.mean(), rdd1.stdev()])"
      ],
      "metadata": {
        "colab": {
          "base_uri": "https://localhost:8080/"
        },
        "id": "Fd-jA1nWrbIz",
        "outputId": "3bce8752-969b-44b3-a84d-d6bc62fd890e"
      },
      "execution_count": 38,
      "outputs": [
        {
          "output_type": "stream",
          "name": "stdout",
          "text": [
            "[29, 1, 151, 15.1, 9.7]\n"
          ]
        }
      ]
    },
    {
      "cell_type": "markdown",
      "source": [
        "What if we want to perform some operation for each partition?\n",
        "*For eg: Sum of elements in each partition or number of elements in each partition*\n"
      ],
      "metadata": {
        "id": "XGGCQGk7sURO"
      }
    },
    {
      "cell_type": "code",
      "source": [
        "def my_partition_func(partition):\n",
        "  _sum = 0\n",
        "  _count = 0\n",
        "  for item in partition:\n",
        "    _sum += item\n",
        "    _count += 1\n",
        "\n",
        "  yield {'sum': _sum, 'count': _count}\n",
        "\n",
        "\n",
        "rdd2 = rdd1.mapPartitions(my_partition_func)"
      ],
      "metadata": {
        "id": "tdeW8wK_sdNg"
      },
      "execution_count": 41,
      "outputs": []
    },
    {
      "cell_type": "code",
      "source": [
        "print(rdd1.glom().collect())\n",
        "print(rdd2.collect())"
      ],
      "metadata": {
        "colab": {
          "base_uri": "https://localhost:8080/"
        },
        "id": "aXmvpVHxtITN",
        "outputId": "0c6e05ff-8e6e-405d-8f4b-c44cbfea2f35"
      },
      "execution_count": 42,
      "outputs": [
        {
          "output_type": "stream",
          "name": "stdout",
          "text": [
            "[[1, 6], [19, 13], [22, 28], [21, 29, 2, 10]]\n",
            "[{'sum': 7, 'count': 2}, {'sum': 32, 'count': 2}, {'sum': 50, 'count': 2}, {'sum': 62, 'count': 4}]\n"
          ]
        }
      ]
    },
    {
      "cell_type": "code",
      "source": [],
      "metadata": {
        "id": "RrLhRt2JtOo6"
      },
      "execution_count": null,
      "outputs": []
    }
  ]
}
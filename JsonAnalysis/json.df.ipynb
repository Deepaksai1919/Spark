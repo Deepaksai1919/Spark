{
 "cells": [
  {
   "cell_type": "code",
   "execution_count": 1,
   "metadata": {},
   "outputs": [
    {
     "name": "stderr",
     "output_type": "stream",
     "text": [
      "Setting default log level to \"WARN\".\n",
      "To adjust logging level use sc.setLogLevel(newLevel). For SparkR, use setLogLevel(newLevel).\n",
      "23/06/19 16:16:13 WARN NativeCodeLoader: Unable to load native-hadoop library for your platform... using builtin-java classes where applicable\n",
      "23/06/19 16:16:14 WARN Utils: Service 'SparkUI' could not bind on port 4040. Attempting port 4041.\n"
     ]
    },
    {
     "data": {
      "text/html": [
       "\n",
       "            <div>\n",
       "                <p><b>SparkSession - in-memory</b></p>\n",
       "                \n",
       "        <div>\n",
       "            <p><b>SparkContext</b></p>\n",
       "\n",
       "            <p><a href=\"http://bc0140581257:4041\">Spark UI</a></p>\n",
       "\n",
       "            <dl>\n",
       "              <dt>Version</dt>\n",
       "                <dd><code>v3.2.1</code></dd>\n",
       "              <dt>Master</dt>\n",
       "                <dd><code>local[*]</code></dd>\n",
       "              <dt>AppName</dt>\n",
       "                <dd><code>json-df</code></dd>\n",
       "            </dl>\n",
       "        </div>\n",
       "        \n",
       "            </div>\n",
       "        "
      ],
      "text/plain": [
       "<pyspark.sql.session.SparkSession at 0x7f36005cc040>"
      ]
     },
     "execution_count": 1,
     "metadata": {},
     "output_type": "execute_result"
    }
   ],
   "source": [
    "from pyspark.sql import SparkSession\n",
    "\n",
    "spark = SparkSession.builder.master('local[*]').appName('json-df').getOrCreate()\n",
    "\n",
    "spark"
   ]
  },
  {
   "cell_type": "code",
   "execution_count": 5,
   "metadata": {},
   "outputs": [],
   "source": [
    "spark.sparkContext.setLogLevel('ERROR')"
   ]
  },
  {
   "cell_type": "code",
   "execution_count": 6,
   "metadata": {},
   "outputs": [
    {
     "name": "stderr",
     "output_type": "stream",
     "text": [
      "[Stage 0:===================================================>     (58 + 6) / 64]\r"
     ]
    },
    {
     "name": "stdout",
     "output_type": "stream",
     "text": [
      "root\n",
      " |-- abstract: string (nullable = true)\n",
      " |-- authors: string (nullable = true)\n",
      " |-- authors_parsed: array (nullable = true)\n",
      " |    |-- element: array (containsNull = true)\n",
      " |    |    |-- element: string (containsNull = true)\n",
      " |-- categories: string (nullable = true)\n",
      " |-- comments: string (nullable = true)\n",
      " |-- doi: string (nullable = true)\n",
      " |-- id: string (nullable = true)\n",
      " |-- journal-ref: string (nullable = true)\n",
      " |-- license: string (nullable = true)\n",
      " |-- report-no: string (nullable = true)\n",
      " |-- submitter: string (nullable = true)\n",
      " |-- title: string (nullable = true)\n",
      " |-- update_date: string (nullable = true)\n",
      " |-- versions: array (nullable = true)\n",
      " |    |-- element: struct (containsNull = true)\n",
      " |    |    |-- created: string (nullable = true)\n",
      " |    |    |-- version: string (nullable = true)\n",
      "\n"
     ]
    },
    {
     "name": "stderr",
     "output_type": "stream",
     "text": [
      "                                                                                \r"
     ]
    }
   ],
   "source": [
    "df = spark.read.json('file:/config/workspace/JsonAnalysis/kaggle/arxiv/dataset.json/arxiv/arxiv-metadata-oai-snapshot.json')\n",
    "df.printSchema()"
   ]
  },
  {
   "cell_type": "code",
   "execution_count": 7,
   "metadata": {},
   "outputs": [
    {
     "data": {
      "text/plain": [
       "64"
      ]
     },
     "execution_count": 7,
     "metadata": {},
     "output_type": "execute_result"
    }
   ],
   "source": [
    "df.rdd.getNumPartitions()"
   ]
  },
  {
   "cell_type": "code",
   "execution_count": 20,
   "metadata": {},
   "outputs": [],
   "source": [
    "from pyspark.sql.types import *\n",
    "\n",
    "Schema = StructType([\n",
    "    StructField('abstract', StringType(), True),\n",
    "    StructField('authors', StringType(), True),\n",
    "    StructField('categories', StringType(), True),\n",
    "    StructField('license', StringType(), True),\n",
    "    StructField('comments', StringType(), True),\n",
    "    StructField('versions', ArrayType(StringType()), True)\n",
    "])"
   ]
  },
  {
   "cell_type": "code",
   "execution_count": 21,
   "metadata": {},
   "outputs": [],
   "source": [
    "df = spark.read.json('file:/config/workspace/JsonAnalysis/kaggle/arxiv/dataset.json/arxiv/arxiv-metadata-oai-snapshot.json', schema=Schema)"
   ]
  },
  {
   "cell_type": "code",
   "execution_count": 22,
   "metadata": {},
   "outputs": [
    {
     "name": "stdout",
     "output_type": "stream",
     "text": [
      "+-----------------------------------------------------------------------------------------------------------------------------------------------------------------------------------------------------------------------------------------------------------------------------------------------------------------------------------------------------------------------------------------------------------------------------------------------------------------------------------------------------------------------------------------------------------------------------------------------------------------------------------------------------------------------------------------------------------------------------------------------------------------------------------------------------------------------------------------------------------------------------------------------------------------------------------------------------------------------------------------------------------------------------------------------------------------------------------------------------------------------------------------------------------------------------------------------------------------------------------------------------------------------------------------------------------------------------------------------------------------------------------------------------------------------------------------------------------------------------------------------------------------------------------------------------------------------------------------------------------------------------------------------------------------------------------------------------------------------------------------------------------------------------------------------------------+-----------------------------------------------------------------------------------------------------------------+-----------------+---------------------------------------------------+---------------------------------------------------------------------------------------------------------------------------------------------------------------------------------------+------------------------------------------------------------------------------------------------------------------------------------------------------------------------------------+\n",
      "|abstract                                                                                                                                                                                                                                                                                                                                                                                                                                                                                                                                                                                                                                                                                                                                                                                                                                                                                                                                                                                                                                                                                                                                                                                                                                                                                                                                                                                                                                                                                                                                                                                                                                                                                                                                                                                                   |authors                                                                                                          |categories       |license                                            |comments                                                                                                                                                                               |versions                                                                                                                                                                            |\n",
      "+-----------------------------------------------------------------------------------------------------------------------------------------------------------------------------------------------------------------------------------------------------------------------------------------------------------------------------------------------------------------------------------------------------------------------------------------------------------------------------------------------------------------------------------------------------------------------------------------------------------------------------------------------------------------------------------------------------------------------------------------------------------------------------------------------------------------------------------------------------------------------------------------------------------------------------------------------------------------------------------------------------------------------------------------------------------------------------------------------------------------------------------------------------------------------------------------------------------------------------------------------------------------------------------------------------------------------------------------------------------------------------------------------------------------------------------------------------------------------------------------------------------------------------------------------------------------------------------------------------------------------------------------------------------------------------------------------------------------------------------------------------------------------------------------------------------+-----------------------------------------------------------------------------------------------------------------+-----------------+---------------------------------------------------+---------------------------------------------------------------------------------------------------------------------------------------------------------------------------------------+------------------------------------------------------------------------------------------------------------------------------------------------------------------------------------+\n",
      "|  A fully differential calculation in perturbative quantum chromodynamics is\\npresented for the production of massive photon pairs at hadron colliders. All\\nnext-to-leading order perturbative contributions from quark-antiquark,\\ngluon-(anti)quark, and gluon-gluon subprocesses are included, as well as\\nall-orders resummation of initial-state gluon radiation valid at\\nnext-to-next-to-leading logarithmic accuracy. The region of phase space is\\nspecified in which the calculation is most reliable. Good agreement is\\ndemonstrated with data from the Fermilab Tevatron, and predictions are made for\\nmore detailed tests with CDF and DO data. Predictions are shown for\\ndistributions of diphoton pairs produced at the energy of the Large Hadron\\nCollider (LHC). Distributions of the diphoton pairs from the decay of a Higgs\\nboson are contrasted with those produced from QCD processes at the LHC, showing\\nthat enhanced sensitivity to the signal can be obtained with judicious\\nselection of events.\\n                                                                                                                                                                                                                                                                                                                                                                                                                                                                                                                                                                                                                                                                                                                                                                      |C. Bal\\'azs, E. L. Berger, P. M. Nadolsky, C.-P. Yuan                                                            |hep-ph           |null                                               |37 pages, 15 figures; published version                                                                                                                                                |[{\"version\":\"v1\",\"created\":\"Mon, 2 Apr 2007 19:18:42 GMT\"}, {\"version\":\"v2\",\"created\":\"Tue, 24 Jul 2007 20:10:27 GMT\"}]                                                             |\n",
      "|  We describe a new algorithm, the $(k,\\ell)$-pebble game with colors, and use\\nit obtain a characterization of the family of $(k,\\ell)$-sparse graphs and\\nalgorithmic solutions to a family of problems concerning tree decompositions of\\ngraphs. Special instances of sparse graphs appear in rigidity theory and have\\nreceived increased attention in recent years. In particular, our colored\\npebbles generalize and strengthen the previous results of Lee and Streinu and\\ngive a new proof of the Tutte-Nash-Williams characterization of arboricity. We\\nalso present a new decomposition that certifies sparsity based on the\\n$(k,\\ell)$-pebble game with colors. Our work also exposes connections between\\npebble game algorithms and previous sparse graph algorithms by Gabow, Gabow and\\nWestermann and Hendrickson.\\n                                                                                                                                                                                                                                                                                                                                                                                                                                                                                                                                                                                                                                                                                                                                                                                                                                                                                                                                                                  |Ileana Streinu and Louis Theran                                                                                  |math.CO cs.CG    |http://arxiv.org/licenses/nonexclusive-distrib/1.0/|To appear in Graphs and Combinatorics                                                                                                                                                  |[{\"version\":\"v1\",\"created\":\"Sat, 31 Mar 2007 02:26:18 GMT\"}, {\"version\":\"v2\",\"created\":\"Sat, 13 Dec 2008 17:26:00 GMT\"}]                                                            |\n",
      "|  The evolution of Earth-Moon system is described by the dark matter field\\nfluid model proposed in the Meeting of Division of Particle and Field 2004,\\nAmerican Physical Society. The current behavior of the Earth-Moon system agrees\\nwith this model very well and the general pattern of the evolution of the\\nMoon-Earth system described by this model agrees with geological and fossil\\nevidence. The closest distance of the Moon to Earth was about 259000 km at 4.5\\nbillion years ago, which is far beyond the Roche's limit. The result suggests\\nthat the tidal friction may not be the primary cause for the evolution of the\\nEarth-Moon system. The average dark matter field fluid constant derived from\\nEarth-Moon system data is 4.39 x 10^(-22) s^(-1)m^(-1). This model predicts\\nthat the Mars's rotation is also slowing with the angular acceleration rate\\nabout -4.38 x 10^(-22) rad s^(-2).\\n                                                                                                                                                                                                                                                                                                                                                                                                                                                                                                                                                                                                                                                                                                                                                                                                                                                                               |Hongjun Pan                                                                                                      |physics.gen-ph   |null                                               |23 pages, 3 figures                                                                                                                                                                    |[{\"version\":\"v1\",\"created\":\"Sun, 1 Apr 2007 20:46:54 GMT\"}, {\"version\":\"v2\",\"created\":\"Sat, 8 Dec 2007 23:47:24 GMT\"}, {\"version\":\"v3\",\"created\":\"Sun, 13 Jan 2008 00:36:28 GMT\"}]  |\n",
      "|  We show that a determinant of Stirling cycle numbers counts unlabeled acyclic\\nsingle-source automata. The proof involves a bijection from these automata to\\ncertain marked lattice paths and a sign-reversing involution to evaluate the\\ndeterminant.\\n                                                                                                                                                                                                                                                                                                                                                                                                                                                                                                                                                                                                                                                                                                                                                                                                                                                                                                                                                                                                                                                                                                                                                                                                                                                                                                                                                                                                                                                                                                                                               |David Callan                                                                                                     |math.CO          |null                                               |11 pages                                                                                                                                                                               |[{\"version\":\"v1\",\"created\":\"Sat, 31 Mar 2007 03:16:14 GMT\"}]                                                                                                                        |\n",
      "|  In this paper we show how to compute the $\\Lambda_{\\alpha}$ norm, $\\alpha\\ge\\n0$, using the dyadic grid. This result is a consequence of the description of\\nthe Hardy spaces $H^p(R^N)$ in terms of dyadic and special atoms.\\n                                                                                                                                                                                                                                                                                                                                                                                                                                                                                                                                                                                                                                                                                                                                                                                                                                                                                                                                                                                                                                                                                                                                                                                                                                                                                                                                                                                                                                                                                                                                                                         |Wael Abu-Shammala and Alberto Torchinsky                                                                         |math.CA math.FA  |null                                               |null                                                                                                                                                                                   |[{\"version\":\"v1\",\"created\":\"Mon, 2 Apr 2007 18:09:58 GMT\"}]                                                                                                                         |\n",
      "|  We study the two-particle wave function of paired atoms in a Fermi gas with\\ntunable interaction strengths controlled by Feshbach resonance. The Cooper pair\\nwave function is examined for its bosonic characters, which is quantified by\\nthe correction of Bose enhancement factor associated with the creation and\\nannihilation composite particle operators. An example is given for a\\nthree-dimensional uniform gas. Two definitions of Cooper pair wave function are\\nexamined. One of which is chosen to reflect the off-diagonal long range order\\n(ODLRO). Another one corresponds to a pair projection of a BCS state. On the\\nside with negative scattering length, we found that paired atoms described by\\nODLRO are more bosonic than the pair projected definition. It is also found\\nthat at $(k_F a)^{-1} \\ge 1$, both definitions give similar results, where more\\nthan 90% of the atoms occupy the corresponding molecular condensates.\\n                                                                                                                                                                                                                                                                                                                                                                                                                                                                                                                                                                                                                                                                                                                                                                                                                                         |Y. H. Pong and C. K. Law                                                                                         |cond-mat.mes-hall|null                                               |6 pages, 4 figures, accepted by PRA                                                                                                                                                    |[{\"version\":\"v1\",\"created\":\"Sat, 31 Mar 2007 04:24:59 GMT\"}]                                                                                                                        |\n",
      "|  A rather non-standard quantum representation of the canonical commutation\\nrelations of quantum mechanics systems, known as the polymer representation has\\ngained some attention in recent years, due to its possible relation with Planck\\nscale physics. In particular, this approach has been followed in a symmetric\\nsector of loop quantum gravity known as loop quantum cosmology. Here we explore\\ndifferent aspects of the relation between the ordinary Schroedinger theory and\\nthe polymer description. The paper has two parts. In the first one, we derive\\nthe polymer quantum mechanics starting from the ordinary Schroedinger theory\\nand show that the polymer description arises as an appropriate limit. In the\\nsecond part we consider the continuum limit of this theory, namely, the reverse\\nprocess in which one starts from the discrete theory and tries to recover back\\nthe ordinary Schroedinger quantum mechanics. We consider several examples of\\ninterest, including the harmonic oscillator, the free particle and a simple\\ncosmological model.\\n                                                                                                                                                                                                                                                                                                                                                                                                                                                                                                                                                                                                                                                                                                                 |Alejandro Corichi, Tatjana Vukasinac and Jose A. Zapata                                                          |gr-qc            |null                                               |16 pages, no figures. Typos corrected to match published version                                                                                                                       |[{\"version\":\"v1\",\"created\":\"Sat, 31 Mar 2007 04:27:22 GMT\"}, {\"version\":\"v2\",\"created\":\"Wed, 22 Aug 2007 22:42:11 GMT\"}]                                                            |\n",
      "|  A general formulation was developed to represent material models for\\napplications in dynamic loading. Numerical methods were devised to calculate\\nresponse to shock and ramp compression, and ramp decompression, generalizing\\nprevious solutions for scalar equations of state. The numerical methods were\\nfound to be flexible and robust, and matched analytic results to a high\\naccuracy. The basic ramp and shock solution methods were coupled to solve for\\ncomposite deformation paths, such as shock-induced impacts, and shock\\ninteractions with a planar interface between different materials. These\\ncalculations capture much of the physics of typical material dynamics\\nexperiments, without requiring spatially-resolving simulations. Example\\ncalculations were made of loading histories in metals, illustrating the effects\\nof plastic work on the temperatures induced in quasi-isentropic and\\nshock-release experiments, and the effect of a phase transition.\\n                                                                                                                                                                                                                                                                                                                                                                                                                                                                                                                                                                                                                                                                                                                                                                                                         |Damian C. Swift                                                                                                  |cond-mat.mtrl-sci|http://arxiv.org/licenses/nonexclusive-distrib/1.0/|Minor corrections                                                                                                                                                                      |[{\"version\":\"v1\",\"created\":\"Sat, 31 Mar 2007 04:47:20 GMT\"}, {\"version\":\"v2\",\"created\":\"Thu, 10 Apr 2008 08:42:28 GMT\"}, {\"version\":\"v3\",\"created\":\"Tue, 1 Jul 2008 18:54:28 GMT\"}] |\n",
      "|  We discuss the results from the combined IRAC and MIPS c2d Spitzer Legacy\\nobservations of the Serpens star-forming region. In particular we present a set\\nof criteria for isolating bona fide young stellar objects, YSO's, from the\\nextensive background contamination by extra-galactic objects. We then discuss\\nthe properties of the resulting high confidence set of YSO's. We find 235 such\\nobjects in the 0.85 deg^2 field that was covered with both IRAC and MIPS. An\\nadditional set of 51 lower confidence YSO's outside this area is identified\\nfrom the MIPS data combined with 2MASS photometry. We describe two sets of\\nresults, color-color diagrams to compare our observed source properties with\\nthose of theoretical models for star/disk/envelope systems and our own modeling\\nof the subset of our objects that appear to be star+disks. These objects\\nexhibit a very wide range of disk properties, from many that can be fit with\\nactively accreting disks to some with both passive disks and even possibly\\ndebris disks. We find that the luminosity function of YSO's in Serpens extends\\ndown to at least a few x .001 Lsun or lower for an assumed distance of 260 pc.\\nThe lower limit may be set by our inability to distinguish YSO's from\\nextra-galactic sources more than by the lack of YSO's at very low luminosities.\\nA spatial clustering analysis shows that the nominally less-evolved YSO's are\\nmore highly clustered than the later stages and that the background\\nextra-galactic population can be fit by the same two-point correlation function\\nas seen in other extra-galactic studies. We also present a table of matches\\nbetween several previous infrared and X-ray studies of the Serpens YSO\\npopulation and our Spitzer data set.\\n|Paul Harvey, Bruno Merin, Tracy L. Huard, Luisa M. Rebull, Nicholas\\n  Chapman, Neal J. Evans II, Philip C. Myers|astro-ph         |null                                               |null                                                                                                                                                                                   |[{\"version\":\"v1\",\"created\":\"Mon, 2 Apr 2007 19:41:34 GMT\"}]                                                                                                                         |\n",
      "|  Partial cubes are isometric subgraphs of hypercubes. Structures on a graph\\ndefined by means of semicubes, and Djokovi\\'{c}'s and Winkler's relations play\\nan important role in the theory of partial cubes. These structures are employed\\nin the paper to characterize bipartite graphs and partial cubes of arbitrary\\ndimension. New characterizations are established and new proofs of some known\\nresults are given.\\n  The operations of Cartesian product and pasting, and expansion and\\ncontraction processes are utilized in the paper to construct new partial cubes\\nfrom old ones. In particular, the isometric and lattice dimensions of finite\\npartial cubes obtained by means of these operations are calculated.\\n                                                                                                                                                                                                                                                                                                                                                                                                                                                                                                                                                                                                                                                                                                                                                                                                                                                                                                                                                                                                                                                                  |Sergei Ovchinnikov                                                                                               |math.CO          |null                                               |36 pages, 17 figures                                                                                                                                                                   |[{\"version\":\"v1\",\"created\":\"Sat, 31 Mar 2007 05:10:16 GMT\"}]                                                                                                                        |\n",
      "|  In this paper we present an algorithm for computing Hecke eigensystems of\\nHilbert-Siegel cusp forms over real quadratic fields of narrow class number\\none. We give some illustrative examples using the quadratic field\\n$\\Q(\\sqrt{5})$. In those examples, we identify Hilbert-Siegel eigenforms that\\nare possible lifts from Hilbert eigenforms.\\n                                                                                                                                                                                                                                                                                                                                                                                                                                                                                                                                                                                                                                                                                                                                                                                                                                                                                                                                                                                                                                                                                                                                                                                                                                                                                                                                                                                                                                                  |Clifton Cunningham and Lassina Dembele                                                                           |math.NT math.AG  |http://arxiv.org/licenses/nonexclusive-distrib/1.0/|14 pages; title changed; to appear in Experimental Mathematics                                                                                                                         |[{\"version\":\"v1\",\"created\":\"Sat, 31 Mar 2007 05:32:49 GMT\"}, {\"version\":\"v2\",\"created\":\"Tue, 19 Aug 2008 04:46:47 GMT\"}, {\"version\":\"v3\",\"created\":\"Wed, 20 Aug 2008 13:15:09 GMT\"}]|\n",
      "|  Recently, Bruinier and Ono classified cusp forms $f(z) := \\sum_{n=0}^{\\infty}\\na_f(n)q ^n \\in S_{\\lambda+1/2}(\\Gamma_0(N),\\chi)\\cap \\mathbb{Z}[[q]]$ that does\\nnot satisfy a certain distribution property for modulo odd primes $p$. In this\\npaper, using Rankin-Cohen Bracket, we extend this result to modular forms of\\nhalf integral weight for primes $p \\geq 5$. As applications of our main theorem\\nwe derive distribution properties, for modulo primes $p\\geq5$, of traces of\\nsingular moduli and Hurwitz class number. We also study an analogue of Newman's\\nconjecture for overpartitions.\\n                                                                                                                                                                                                                                                                                                                                                                                                                                                                                                                                                                                                                                                                                                                                                                                                                                                                                                                                                                                                                                                                                                                                                                                            |Dohoon Choi                                                                                                      |math.NT          |null                                               |null                                                                                                                                                                                   |[{\"version\":\"v1\",\"created\":\"Sat, 31 Mar 2007 05:48:51 GMT\"}]                                                                                                                        |\n",
      "|  Serre obtained the p-adic limit of the integral Fourier coefficient of\\nmodular forms on $SL_2(\\mathbb{Z})$ for $p=2,3,5,7$. In this paper, we extend\\nthe result of Serre to weakly holomorphic modular forms of half integral weight\\non $\\Gamma_{0}(4N)$ for $N=1,2,4$. A proof is based on linear relations among\\nFourier coefficients of modular forms of half integral weight. As applications\\nwe obtain congruences of Borcherds exponents, congruences of quotient of\\nEisentein series and congruences of values of $L$-functions at a certain point\\nare also studied. Furthermore, the congruences of the Fourier coefficients of\\nSiegel modular forms on Maass Space are obtained using Ikeda lifting.\\n                                                                                                                                                                                                                                                                                                                                                                                                                                                                                                                                                                                                                                                                                                                                                                                                                                                                                                                                                                                                                                                                                  |Dohoon Choi and YoungJu Choie                                                                                    |math.NT          |null                                               |null                                                                                                                                                                                   |[{\"version\":\"v1\",\"created\":\"Sat, 31 Mar 2007 06:21:49 GMT\"}, {\"version\":\"v2\",\"created\":\"Mon, 26 May 2008 03:31:52 GMT\"}]                                                            |\n",
      "|  In this article we discuss a relation between the string topology and\\ndifferential forms based on the theory of Chen's iterated integrals and the\\ncyclic bar complex.\\n                                                                                                                                                                                                                                                                                                                                                                                                                                                                                                                                                                                                                                                                                                                                                                                                                                                                                                                                                                                                                                                                                                                                                                                                                                                                                                                                                                                                                                                                                                                                                                                                                                |Koichi Fujii                                                                                                     |math.CA math.AT  |null                                               |18 pages, 1 figure                                                                                                                                                                     |[{\"version\":\"v1\",\"created\":\"Sun, 1 Apr 2007 12:04:13 GMT\"}]                                                                                                                         |\n",
      "|  The pure spinor formulation of the ten-dimensional superstring leads to\\nmanifestly supersymmetric loop amplitudes, expressed as integrals in pure\\nspinor superspace. This paper explores different methods to evaluate these\\nintegrals and then uses them to calculate the kinematic factors of the one-loop\\nand two-loop massless four-point amplitudes involving two and four Ramond\\nstates.\\n                                                                                                                                                                                                                                                                                                                                                                                                                                                                                                                                                                                                                                                                                                                                                                                                                                                                                                                                                                                                                                                                                                                                                                                                                                                                                                                                                                                                    |Christian Stahn                                                                                                  |hep-th           |null                                               |22 pages; signs and coefficients adjusted for anticommuting\\n  superfields, section 4.3 changed accordingly, reference added                                                           |[{\"version\":\"v1\",\"created\":\"Mon, 2 Apr 2007 18:10:09 GMT\"}, {\"version\":\"v2\",\"created\":\"Mon, 10 Mar 2008 04:18:38 GMT\"}]                                                             |\n",
      "|  In this work, we evaluate the lifetimes of the doubly charmed baryons\\n$\\Xi_{cc}^{+}$, $\\Xi_{cc}^{++}$ and $\\Omega_{cc}^{+}$. We carefully calculate\\nthe non-spectator contributions at the quark level where the Cabibbo-suppressed\\ndiagrams are also included. The hadronic matrix elements are evaluated in the\\nsimple non-relativistic harmonic oscillator model. Our numerical results are\\ngenerally consistent with that obtained by other authors who used the diquark\\nmodel. However, all the theoretical predictions on the lifetimes are one order\\nlarger than the upper limit set by the recent SELEX measurement. This\\ndiscrepancy would be clarified by the future experiment, if more accurate\\nexperiment still confirms the value of the SELEX collaboration, there must be\\nsome unknown mechanism to be explored.\\n                                                                                                                                                                                                                                                                                                                                                                                                                                                                                                                                                                                                                                                                                                                                                                                                                                                                                                                                                             |Chao-Hsi Chang, Tong Li, Xue-Qian Li and Yu-Ming Wang                                                            |hep-ph           |null                                               |17 pages, 3 figures and 1 table                                                                                                                                                        |[{\"version\":\"v1\",\"created\":\"Sat, 31 Mar 2007 07:04:26 GMT\"}]                                                                                                                        |\n",
      "|  Results from spectroscopic observations of the Intermediate Polar (IP) EX Hya\\nin quiescence during 1991 and 2001 are presented. Spin-modulated radial\\nvelocities consistent with an outer disc origin were detected for the first\\ntime in an IP. The spin pulsation was modulated with velocities near ~500-600\\nkm/s. These velocities are consistent with those of material circulating at the\\nouter edge of the accretion disc, suggesting corotation of the accretion\\ncurtain with material near the Roche lobe radius. Furthermore, spin Doppler\\ntomograms have revealed evidence of the accretion curtain emission extending\\nfrom velocities of ~500 km/s to ~1000 km/s. These findings have confirmed the\\ntheoretical model predictions of King & Wynn (1999), Belle et al. (2002) and\\nNorton et al. (2004) for EX Hya, which predict large accretion curtains that\\nextend to a distance close to the Roche lobe radius in this system. Evidence\\nfor overflow stream of material falling onto the magnetosphere was observed,\\nconfirming the result of Belle et al. (2005) that disc overflow in EX Hya is\\npresent during quiescence as well as outburst. It appears that the hbeta and\\nhgamma spin radial velocities originated from the rotation of the funnel at the\\nouter disc edge, while those of halpha were produced due to the flow of\\nmaterial along the field lines far from the white dwarf (narrow component) and\\nclose to the white dwarf (broad-base component), in agreement with the\\naccretion curtain model.\\n                                                                                                                                                                                                                                                |Nceba Mhlahlo, David H. Buckley, Vikram S. Dhillon, Steven B. Potter,\\n  Brian Warner and Patric A. Woudt        |astro-ph         |null                                               |10 pages, 11 figures (figures 3, 4, 7 and 8 at reduced resolution,\\n  originals available on request). Accepted for publication in Monthly Notices\\n  of the Royal Astronomical Society|[{\"version\":\"v1\",\"created\":\"Sat, 31 Mar 2007 07:38:48 GMT\"}]                                                                                                                        |\n",
      "|  We give a prescription for how to compute the Callias index, using as\\nregulator an exponential function. We find agreement with old results in all\\nodd dimensions. We show that the problem of computing the dimension of the\\nmoduli space of self-dual strings can be formulated as an index problem in\\neven-dimensional (loop-)space. We think that the regulator used in this Letter\\ncan be applied to this index problem.\\n                                                                                                                                                                                                                                                                                                                                                                                                                                                                                                                                                                                                                                                                                                                                                                                                                                                                                                                                                                                                                                                                                                                                                                                                                                                                                                                                                                     |Andreas Gustavsson                                                                                               |hep-th           |null                                               |20 pages, v2: an overall sign and typos corrected                                                                                                                                      |[{\"version\":\"v1\",\"created\":\"Mon, 2 Apr 2007 08:58:27 GMT\"}, {\"version\":\"v2\",\"created\":\"Sat, 21 Apr 2007 17:16:20 GMT\"}]                                                             |\n",
      "|  In this note we give a new method for getting a series of approximations for\\nthe extinction probability of the one-dimensional contact process by using the\\nGr\\\"obner basis.\\n                                                                                                                                                                                                                                                                                                                                                                                                                                                                                                                                                                                                                                                                                                                                                                                                                                                                                                                                                                                                                                                                                                                                                                                                                                                                                                                                                                                                                                                                                                                                                                                                                         |Norio Konno                                                                                                      |math.PR math.AG  |null                                               |6 pages, Journal-ref added                                                                                                                                                             |[{\"version\":\"v1\",\"created\":\"Sat, 31 Mar 2007 08:12:35 GMT\"}, {\"version\":\"v2\",\"created\":\"Sat, 23 Jun 2007 19:58:14 GMT\"}]                                                            |\n",
      "|  The shape of the hadronic form factor f+(q2) in the decay D0 --> K- e+ nue\\nhas been measured in a model independent analysis and compared with theoretical\\ncalculations. We use 75 fb(-1) of data recorded by the BABAR detector at the\\nPEPII electron-positron collider. The corresponding decay branching fraction,\\nrelative to the decay D0 --> K- pi+, has also been measured to be RD = BR(D0\\n--> K- e+ nue)/BR(D0 --> K- pi+) = 0.927 +/- 0.007 +/- 0.012. From these\\nresults, and using the present world average value for BR(D0 --> K- pi+), the\\nnormalization of the form factor at q2=0 is determined to be f+(0)=0.727 +/-\\n0.007 +/- 0.005 +/- 0.007 where the uncertainties are statistical, systematic,\\nand from external inputs, respectively.\\n                                                                                                                                                                                                                                                                                                                                                                                                                                                                                                                                                                                                                                                                                                                                                                                                                                                                                                                                                                                                                                 |The BABAR Collaboration, B. Aubert, et al                                                                        |hep-ex           |null                                               |21 pages, 13 postscript figures, submitted to Phys. Rev. D,\\n  contributed to 42nd Rencontres de Moriond: QCD and Hadronic Interactions                                                |[{\"version\":\"v1\",\"created\":\"Sat, 31 Mar 2007 09:49:10 GMT\"}]                                                                                                                        |\n",
      "+-----------------------------------------------------------------------------------------------------------------------------------------------------------------------------------------------------------------------------------------------------------------------------------------------------------------------------------------------------------------------------------------------------------------------------------------------------------------------------------------------------------------------------------------------------------------------------------------------------------------------------------------------------------------------------------------------------------------------------------------------------------------------------------------------------------------------------------------------------------------------------------------------------------------------------------------------------------------------------------------------------------------------------------------------------------------------------------------------------------------------------------------------------------------------------------------------------------------------------------------------------------------------------------------------------------------------------------------------------------------------------------------------------------------------------------------------------------------------------------------------------------------------------------------------------------------------------------------------------------------------------------------------------------------------------------------------------------------------------------------------------------------------------------------------------------+-----------------------------------------------------------------------------------------------------------------+-----------------+---------------------------------------------------+---------------------------------------------------------------------------------------------------------------------------------------------------------------------------------------+------------------------------------------------------------------------------------------------------------------------------------------------------------------------------------+\n",
      "only showing top 20 rows\n",
      "\n"
     ]
    }
   ],
   "source": [
    "df.show(truncate=False)"
   ]
  },
  {
   "cell_type": "code",
   "execution_count": 23,
   "metadata": {},
   "outputs": [
    {
     "name": "stderr",
     "output_type": "stream",
     "text": [
      "                                                                                \r"
     ]
    },
    {
     "data": {
      "text/plain": [
       "2276611"
      ]
     },
     "execution_count": 23,
     "metadata": {},
     "output_type": "execute_result"
    }
   ],
   "source": [
    "df.count()"
   ]
  },
  {
   "cell_type": "code",
   "execution_count": 24,
   "metadata": {},
   "outputs": [
    {
     "name": "stderr",
     "output_type": "stream",
     "text": [
      "                                                                                \r"
     ]
    },
    {
     "data": {
      "text/plain": [
       "536123"
      ]
     },
     "execution_count": 24,
     "metadata": {},
     "output_type": "execute_result"
    }
   ],
   "source": [
    "df.filter('comments is null').count()"
   ]
  },
  {
   "cell_type": "code",
   "execution_count": null,
   "metadata": {},
   "outputs": [],
   "source": [
    "# drop the records where comments is null and replace null license with 'Unknown'"
   ]
  },
  {
   "cell_type": "code",
   "execution_count": 25,
   "metadata": {},
   "outputs": [
    {
     "name": "stderr",
     "output_type": "stream",
     "text": [
      "                                                                                \r"
     ]
    },
    {
     "data": {
      "text/plain": [
       "1740488"
      ]
     },
     "execution_count": 25,
     "metadata": {},
     "output_type": "execute_result"
    }
   ],
   "source": [
    "df = df.dropna(subset=['comments'])\n",
    "df.count()"
   ]
  },
  {
   "cell_type": "code",
   "execution_count": 26,
   "metadata": {},
   "outputs": [
    {
     "data": {
      "text/plain": [
       "1740488"
      ]
     },
     "execution_count": 26,
     "metadata": {},
     "output_type": "execute_result"
    }
   ],
   "source": [
    "2276611 - 536123"
   ]
  },
  {
   "cell_type": "code",
   "execution_count": 28,
   "metadata": {},
   "outputs": [
    {
     "name": "stderr",
     "output_type": "stream",
     "text": [
      "                                                                                \r"
     ]
    },
    {
     "data": {
      "text/plain": [
       "422038"
      ]
     },
     "execution_count": 28,
     "metadata": {},
     "output_type": "execute_result"
    }
   ],
   "source": [
    "df.filter('license is null').count()"
   ]
  },
  {
   "cell_type": "code",
   "execution_count": 29,
   "metadata": {},
   "outputs": [
    {
     "name": "stderr",
     "output_type": "stream",
     "text": [
      "                                                                                \r"
     ]
    },
    {
     "data": {
      "text/plain": [
       "0"
      ]
     },
     "execution_count": 29,
     "metadata": {},
     "output_type": "execute_result"
    }
   ],
   "source": [
    "df.filter('license = \"Unknown\"').count()"
   ]
  },
  {
   "cell_type": "code",
   "execution_count": 30,
   "metadata": {},
   "outputs": [],
   "source": [
    "df = df.fillna(value='Unknown',subset=['license'])"
   ]
  },
  {
   "cell_type": "code",
   "execution_count": 31,
   "metadata": {},
   "outputs": [
    {
     "name": "stderr",
     "output_type": "stream",
     "text": [
      "                                                                                \r"
     ]
    },
    {
     "data": {
      "text/plain": [
       "422038"
      ]
     },
     "execution_count": 31,
     "metadata": {},
     "output_type": "execute_result"
    }
   ],
   "source": [
    "df.filter('license = \"Unknown\"').count()"
   ]
  },
  {
   "cell_type": "code",
   "execution_count": 35,
   "metadata": {},
   "outputs": [
    {
     "name": "stdout",
     "output_type": "stream",
     "text": [
      "+--------------------+\n",
      "|          categories|\n",
      "+--------------------+\n",
      "|              hep-ph|\n",
      "|       math.CO cs.CG|\n",
      "|      physics.gen-ph|\n",
      "|             math.CO|\n",
      "|   cond-mat.mes-hall|\n",
      "|               gr-qc|\n",
      "|   cond-mat.mtrl-sci|\n",
      "|             math.CO|\n",
      "|     math.NT math.AG|\n",
      "|     math.CA math.AT|\n",
      "|              hep-th|\n",
      "|              hep-ph|\n",
      "|            astro-ph|\n",
      "|              hep-th|\n",
      "|     math.PR math.AG|\n",
      "|              hep-ex|\n",
      "|nlin.PS physics.c...|\n",
      "|             math.NA|\n",
      "|            astro-ph|\n",
      "|             nlin.PS|\n",
      "+--------------------+\n",
      "only showing top 20 rows\n",
      "\n"
     ]
    }
   ],
   "source": [
    "# Get the author names who published a paper in math category\n",
    "\n",
    "df.select('categories').show()"
   ]
  },
  {
   "cell_type": "code",
   "execution_count": 43,
   "metadata": {},
   "outputs": [
    {
     "name": "stdout",
     "output_type": "stream",
     "text": [
      "+--------------------+\n",
      "|             authors|\n",
      "+--------------------+\n",
      "|Ileana Streinu an...|\n",
      "|        David Callan|\n",
      "|  Sergei Ovchinnikov|\n",
      "|Clifton Cunningha...|\n",
      "|        Koichi Fujii|\n",
      "|         Norio Konno|\n",
      "|Simon J.A. Malham...|\n",
      "|Robert P. C. de M...|\n",
      "|  P\\'eter E. Frenkel|\n",
      "|          Mihai Popa|\n",
      "|   Debashish Goswami|\n",
      "|      Mikkel {\\O}bro|\n",
      "|Nabil L. Youssef,...|\n",
      "|         Boris Rubin|\n",
      "|         A. I. Molev|\n",
      "| Branko J. Malesevic|\n",
      "|   John W. Robertson|\n",
      "|     Yu.N. Kosovtsov|\n",
      "|        Osamu Fujino|\n",
      "|Stephen C. Power ...|\n",
      "+--------------------+\n",
      "only showing top 20 rows\n",
      "\n"
     ]
    }
   ],
   "source": [
    "df.filter('categories like \"math%\"').select('authors').show()"
   ]
  },
  {
   "cell_type": "code",
   "execution_count": 42,
   "metadata": {},
   "outputs": [
    {
     "name": "stderr",
     "output_type": "stream",
     "text": [
      "                                                                                \r"
     ]
    },
    {
     "data": {
      "text/plain": [
       "336050"
      ]
     },
     "execution_count": 42,
     "metadata": {},
     "output_type": "execute_result"
    }
   ],
   "source": [
    "df.createOrReplaceTempView('Archive')\n",
    "\n",
    "spark.sql(\"\"\"\n",
    "        select authors from Archive where categories like 'math%'\n",
    "\"\"\").count()"
   ]
  },
  {
   "cell_type": "code",
   "execution_count": 48,
   "metadata": {},
   "outputs": [
    {
     "name": "stderr",
     "output_type": "stream",
     "text": [
      "[Stage 30:===============================>                       (37 + 27) / 64]\r"
     ]
    },
    {
     "name": "stdout",
     "output_type": "stream",
     "text": [
      "+--------------------+\n",
      "|             license|\n",
      "+--------------------+\n",
      "|             Unknown|\n",
      "|http://arxiv.org/...|\n",
      "|http://creativeco...|\n",
      "|http://creativeco...|\n",
      "|http://creativeco...|\n",
      "|http://creativeco...|\n",
      "|http://creativeco...|\n",
      "|http://creativeco...|\n",
      "+--------------------+\n",
      "\n"
     ]
    },
    {
     "name": "stderr",
     "output_type": "stream",
     "text": [
      "                                                                                \r"
     ]
    }
   ],
   "source": [
    "# Get licenses with 5 or more letters in the abstract\n",
    "\n",
    "spark.sql(\"\"\"\n",
    "    select distinct license from Archive where abstract regexp '%\\(([A-Za-z][^_/\\\\<>]{5,})\\)%'\n",
    "\"\"\").show()"
   ]
  },
  {
   "cell_type": "code",
   "execution_count": 49,
   "metadata": {},
   "outputs": [
    {
     "name": "stderr",
     "output_type": "stream",
     "text": [
      "                                                                                \r"
     ]
    },
    {
     "name": "stdout",
     "output_type": "stream",
     "text": [
      "+------------------+---------+-----------------+\n",
      "|              _avg|     _sum|             _std|\n",
      "+------------------+---------+-----------------+\n",
      "|13.366812941014791|5641303.0|16.77684387442691|\n",
      "+------------------+---------+-----------------+\n",
      "\n"
     ]
    }
   ],
   "source": [
    "# Extract the statistics of th number of pages for Unknown datasets\n",
    "\n",
    "import re\n",
    "def get_page(comment):\n",
    "    if not comment:\n",
    "        return 0\n",
    "    search = re.findall('\\d+ pages', comment)\n",
    "    if search:\n",
    "        return int(search[0].split()[0])\n",
    "    else:\n",
    "        return 0\n",
    "\n",
    "spark.udf.register('PageNumbers', get_page)\n",
    "\n",
    "spark.sql(\"\"\"\n",
    "        select avg(PageNumbers(comments)) as _avg, sum(PageNumbers(comments)) as _sum,\n",
    "        std(PageNumbers(comments)) as _std from Archive where license = 'Unknown'\n",
    "\n",
    "\"\"\").show()"
   ]
  }
 ],
 "metadata": {
  "kernelspec": {
   "display_name": "Python 3 (ipykernel)",
   "language": "python",
   "name": "python3"
  },
  "language_info": {
   "codemirror_mode": {
    "name": "ipython",
    "version": 3
   },
   "file_extension": ".py",
   "mimetype": "text/x-python",
   "name": "python",
   "nbconvert_exporter": "python",
   "pygments_lexer": "ipython3",
   "version": "3.9.13"
  },
  "orig_nbformat": 4
 },
 "nbformat": 4,
 "nbformat_minor": 2
}

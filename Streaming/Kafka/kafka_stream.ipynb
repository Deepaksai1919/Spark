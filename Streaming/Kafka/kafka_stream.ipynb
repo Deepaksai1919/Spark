{
 "cells": [
  {
   "cell_type": "code",
   "execution_count": 1,
   "id": "0cd740a5-b7fb-4bfa-8b8d-a3cd6bedaca4",
   "metadata": {},
   "outputs": [],
   "source": [
    "import findspark\n",
    "findspark.init()"
   ]
  },
  {
   "cell_type": "code",
   "execution_count": 2,
   "id": "d2d88922-d9a0-4d15-bc4d-69d91888a7ff",
   "metadata": {},
   "outputs": [],
   "source": [
    "from pyspark.sql import SparkSession\n",
    "from pyspark.sql import functions as F\n",
    "from pyspark.sql import types as T"
   ]
  },
  {
   "cell_type": "code",
   "execution_count": null,
   "id": "5c41eb86-e4ff-467b-a10f-26a255ed67e5",
   "metadata": {},
   "outputs": [],
   "source": [
    "spark = SparkSession.builder.appName('Kafka Stream').master('local[3]').config(\n",
    "        'spark.streaming.stropGracefullyOnShutdown', 'true'\n",
    "    ).config(\n",
    "        'spark.sql.shuffle.partitions', 3\n",
    "    ).getOrCreate()"
   ]
  },
  {
   "cell_type": "code",
   "execution_count": 4,
   "id": "d03bcd98-0a61-47b7-93de-d655b0076798",
   "metadata": {},
   "outputs": [],
   "source": [
    "kafka_df = spark.readStream.format('kafka').option(\n",
    "    'kafka.bootstrap.servers', 'localhost:9092'\n",
    ").option('subscribe','invoices').option('startingOffsets','earliest').load()"
   ]
  },
  {
   "cell_type": "code",
   "execution_count": 5,
   "id": "003f96ce-0f25-47fd-b992-2cccea431805",
   "metadata": {},
   "outputs": [
    {
     "name": "stdout",
     "output_type": "stream",
     "text": [
      "root\n",
      " |-- key: binary (nullable = true)\n",
      " |-- value: binary (nullable = true)\n",
      " |-- topic: string (nullable = true)\n",
      " |-- partition: integer (nullable = true)\n",
      " |-- offset: long (nullable = true)\n",
      " |-- timestamp: timestamp (nullable = true)\n",
      " |-- timestampType: integer (nullable = true)\n",
      "\n"
     ]
    }
   ],
   "source": [
    "kafka_df.printSchema()"
   ]
  },
  {
   "cell_type": "code",
   "execution_count": 6,
   "id": "9b058b77-ec99-4b01-a84b-36ea41e89590",
   "metadata": {},
   "outputs": [],
   "source": [
    "schema = T.StructType([\n",
    "        T.StructField(\"InvoiceNumber\", T.StringType()),\n",
    "        T.StructField(\"CreatedTime\", T.LongType()),\n",
    "        T.StructField(\"StoreID\", T.StringType()),\n",
    "        T.StructField(\"PosID\", T.StringType()),\n",
    "        T.StructField(\"CashierID\", T.StringType()),\n",
    "        T.StructField(\"CustomerType\", T.StringType()),\n",
    "        T.StructField(\"CustomerCardNo\", T.StringType()),\n",
    "        T.StructField(\"TotalAmount\", T.DoubleType()),\n",
    "        T.StructField(\"NumberOfItems\", T.IntegerType()),\n",
    "        T.StructField(\"PaymentMethod\", T.StringType()),\n",
    "        T.StructField(\"CGST\", T.DoubleType()),\n",
    "        T.StructField(\"SGST\", T.DoubleType()),\n",
    "        T.StructField(\"CESS\", T.DoubleType()),\n",
    "        T.StructField(\"DeliveryType\", T.StringType()),\n",
    "        T.StructField(\"DeliveryAddress\", T.StructType([\n",
    "            T.StructField(\"AddressLine\", T.StringType()),\n",
    "            T.StructField(\"City\", T.StringType()),\n",
    "            T.StructField(\"State\", T.StringType()),\n",
    "            T.StructField(\"PinCode\", T.StringType()),\n",
    "            T.StructField(\"ContactNumber\", T.StringType())\n",
    "        ])),\n",
    "        T.StructField(\"InvoiceLineItems\", T.ArrayType(T.StructType([\n",
    "            T.StructField(\"ItemCode\", T.StringType()),\n",
    "            T.StructField(\"ItemDescription\", T.StringType()),\n",
    "            T.StructField(\"ItemPrice\", T.DoubleType()),\n",
    "            T.StructField(\"ItemQty\", T.IntegerType()),\n",
    "            T.StructField(\"TotalValue\", T.DoubleType())\n",
    "        ]))),\n",
    "    ])"
   ]
  },
  {
   "cell_type": "code",
   "execution_count": 10,
   "id": "299b5229-3696-48f3-ae55-ef5d33b518c1",
   "metadata": {},
   "outputs": [
    {
     "name": "stdout",
     "output_type": "stream",
     "text": [
      "root\n",
      " |-- InvoiceNumber: string (nullable = true)\n",
      " |-- CreatedTime: long (nullable = true)\n",
      " |-- StoreID: string (nullable = true)\n",
      " |-- PosID: string (nullable = true)\n",
      " |-- CashierID: string (nullable = true)\n",
      " |-- CustomerType: string (nullable = true)\n",
      " |-- CustomerCardNo: string (nullable = true)\n",
      " |-- TotalAmount: double (nullable = true)\n",
      " |-- NumberOfItems: integer (nullable = true)\n",
      " |-- PaymentMethod: string (nullable = true)\n",
      " |-- CGST: double (nullable = true)\n",
      " |-- SGST: double (nullable = true)\n",
      " |-- CESS: double (nullable = true)\n",
      " |-- DeliveryType: string (nullable = true)\n",
      " |-- DeliveryAddress: struct (nullable = true)\n",
      " |    |-- AddressLine: string (nullable = true)\n",
      " |    |-- City: string (nullable = true)\n",
      " |    |-- State: string (nullable = true)\n",
      " |    |-- PinCode: string (nullable = true)\n",
      " |    |-- ContactNumber: string (nullable = true)\n",
      " |-- InvoiceLineItems: array (nullable = true)\n",
      " |    |-- element: struct (containsNull = true)\n",
      " |    |    |-- ItemCode: string (nullable = true)\n",
      " |    |    |-- ItemDescription: string (nullable = true)\n",
      " |    |    |-- ItemPrice: double (nullable = true)\n",
      " |    |    |-- ItemQty: integer (nullable = true)\n",
      " |    |    |-- TotalValue: double (nullable = true)\n",
      "\n"
     ]
    }
   ],
   "source": [
    "value_df = kafka_df.select(F.from_json(F.col('value').cast('string'), schema).alias('value')).selectExpr('value.*')\n",
    "value_df.printSchema()"
   ]
  },
  {
   "cell_type": "code",
   "execution_count": 12,
   "id": "37d71f73-9d7c-4f03-a255-ee534365e136",
   "metadata": {},
   "outputs": [],
   "source": [
    "explode_df = value_df.selectExpr(\n",
    "    'InvoiceNumber','CreatedTime','StoreID','PosID','CustomerType','PaymentMethod',\n",
    "    'DeliveryType','DeliveryAddress.City','DeliveryAddress.State',\n",
    "    'DeliveryAddress.PinCode','explode(InvoiceLineItems) as InvoiceLineItem'\n",
    ")"
   ]
  },
  {
   "cell_type": "code",
   "execution_count": 13,
   "id": "0b1895c3-29f8-4cf6-9e43-09ad825c3543",
   "metadata": {},
   "outputs": [
    {
     "name": "stdout",
     "output_type": "stream",
     "text": [
      "root\n",
      " |-- InvoiceNumber: string (nullable = true)\n",
      " |-- CreatedTime: long (nullable = true)\n",
      " |-- StoreID: string (nullable = true)\n",
      " |-- PosID: string (nullable = true)\n",
      " |-- CustomerType: string (nullable = true)\n",
      " |-- PaymentMethod: string (nullable = true)\n",
      " |-- DeliveryType: string (nullable = true)\n",
      " |-- City: string (nullable = true)\n",
      " |-- State: string (nullable = true)\n",
      " |-- PinCode: string (nullable = true)\n",
      " |-- InvoiceLineItem: struct (nullable = true)\n",
      " |    |-- ItemCode: string (nullable = true)\n",
      " |    |-- ItemDescription: string (nullable = true)\n",
      " |    |-- ItemPrice: double (nullable = true)\n",
      " |    |-- ItemQty: integer (nullable = true)\n",
      " |    |-- TotalValue: double (nullable = true)\n",
      "\n"
     ]
    }
   ],
   "source": [
    "explode_df.printSchema()"
   ]
  },
  {
   "cell_type": "code",
   "execution_count": 14,
   "id": "8781e0b5-de04-401e-9790-152381b40e05",
   "metadata": {},
   "outputs": [],
   "source": [
    "def struct_to_col(df, struct_field):\n",
    "    df = df.alias('temp')\n",
    "    cols = df.select(f'{struct_field}.*').columns\n",
    "    for col in cols:\n",
    "        df = df.withColumn(col, F.expr(f'{struct_field}.{col}'))\n",
    "    return df.drop(struct_field)"
   ]
  },
  {
   "cell_type": "code",
   "execution_count": 15,
   "id": "a4b8d3a3-addd-4712-9e37-710cdb878924",
   "metadata": {},
   "outputs": [
    {
     "name": "stdout",
     "output_type": "stream",
     "text": [
      "root\n",
      " |-- InvoiceNumber: string (nullable = true)\n",
      " |-- CreatedTime: long (nullable = true)\n",
      " |-- StoreID: string (nullable = true)\n",
      " |-- PosID: string (nullable = true)\n",
      " |-- CustomerType: string (nullable = true)\n",
      " |-- PaymentMethod: string (nullable = true)\n",
      " |-- DeliveryType: string (nullable = true)\n",
      " |-- City: string (nullable = true)\n",
      " |-- State: string (nullable = true)\n",
      " |-- PinCode: string (nullable = true)\n",
      " |-- ItemCode: string (nullable = true)\n",
      " |-- ItemDescription: string (nullable = true)\n",
      " |-- ItemPrice: double (nullable = true)\n",
      " |-- ItemQty: integer (nullable = true)\n",
      " |-- TotalValue: double (nullable = true)\n",
      "\n"
     ]
    }
   ],
   "source": [
    "flattened_df = struct_to_col(explode_df, 'InvoiceLineItem')\n",
    "flattened_df.printSchema()"
   ]
  },
  {
   "cell_type": "code",
   "execution_count": 16,
   "id": "e4f584f0-6046-4bf7-b7e8-1704279e7a41",
   "metadata": {},
   "outputs": [
    {
     "name": "stderr",
     "output_type": "stream",
     "text": [
      "23/08/07 08:14:49 WARN ResolveWriteToStream: spark.sql.adaptive.enabled is not supported in streaming DataFrames/Datasets and will be disabled.\n",
      "23/08/07 08:14:50 WARN AdminClientConfig: These configurations '[key.deserializer, value.deserializer, enable.auto.commit, max.poll.records, auto.offset.reset]' were supplied but are not used yet.\n",
      "ERROR:root:KeyboardInterrupt while sending command.                             \n",
      "Traceback (most recent call last):\n",
      "  File \"/opt/spark/python/lib/py4j-0.10.9.7-src.zip/py4j/java_gateway.py\", line 1038, in send_command\n",
      "    response = connection.send_command(command)\n",
      "  File \"/opt/spark/python/lib/py4j-0.10.9.7-src.zip/py4j/clientserver.py\", line 511, in send_command\n",
      "    answer = smart_decode(self.stream.readline()[:-1])\n",
      "  File \"/usr/lib/python3.10/socket.py\", line 705, in readinto\n",
      "    return self._sock.recv_into(b)\n",
      "KeyboardInterrupt\n"
     ]
    },
    {
     "ename": "KeyboardInterrupt",
     "evalue": "",
     "output_type": "error",
     "traceback": [
      "\u001b[0;31m---------------------------------------------------------------------------\u001b[0m",
      "\u001b[0;31mKeyboardInterrupt\u001b[0m                         Traceback (most recent call last)",
      "Cell \u001b[0;32mIn[16], line 8\u001b[0m\n\u001b[1;32m      1\u001b[0m invoice_writer_query \u001b[38;5;241m=\u001b[39m flattened_df\u001b[38;5;241m.\u001b[39mwriteStream\u001b[38;5;241m.\u001b[39mformat(\n\u001b[1;32m      2\u001b[0m     \u001b[38;5;124m'\u001b[39m\u001b[38;5;124mjson\u001b[39m\u001b[38;5;124m'\u001b[39m\n\u001b[1;32m      3\u001b[0m )\u001b[38;5;241m.\u001b[39mqueryName(\u001b[38;5;124m'\u001b[39m\u001b[38;5;124mFlattened Invoice Writer\u001b[39m\u001b[38;5;124m'\u001b[39m)\u001b[38;5;241m.\u001b[39moutputMode(\u001b[38;5;124m'\u001b[39m\u001b[38;5;124mappend\u001b[39m\u001b[38;5;124m'\u001b[39m)\u001b[38;5;241m.\u001b[39moption(\n\u001b[0;32m   (...)\u001b[0m\n\u001b[1;32m      6\u001b[0m     processingTime \u001b[38;5;241m=\u001b[39m \u001b[38;5;124m'\u001b[39m\u001b[38;5;124m1 minute\u001b[39m\u001b[38;5;124m'\u001b[39m\n\u001b[1;32m      7\u001b[0m )\u001b[38;5;241m.\u001b[39mstart()\n\u001b[0;32m----> 8\u001b[0m \u001b[43minvoice_writer_query\u001b[49m\u001b[38;5;241;43m.\u001b[39;49m\u001b[43mawaitTermination\u001b[49m\u001b[43m(\u001b[49m\u001b[43m)\u001b[49m\n",
      "File \u001b[0;32m/opt/spark/python/pyspark/sql/streaming/query.py:201\u001b[0m, in \u001b[0;36mStreamingQuery.awaitTermination\u001b[0;34m(self, timeout)\u001b[0m\n\u001b[1;32m    199\u001b[0m     \u001b[38;5;28;01mreturn\u001b[39;00m \u001b[38;5;28mself\u001b[39m\u001b[38;5;241m.\u001b[39m_jsq\u001b[38;5;241m.\u001b[39mawaitTermination(\u001b[38;5;28mint\u001b[39m(timeout \u001b[38;5;241m*\u001b[39m \u001b[38;5;241m1000\u001b[39m))\n\u001b[1;32m    200\u001b[0m \u001b[38;5;28;01melse\u001b[39;00m:\n\u001b[0;32m--> 201\u001b[0m     \u001b[38;5;28;01mreturn\u001b[39;00m \u001b[38;5;28;43mself\u001b[39;49m\u001b[38;5;241;43m.\u001b[39;49m\u001b[43m_jsq\u001b[49m\u001b[38;5;241;43m.\u001b[39;49m\u001b[43mawaitTermination\u001b[49m\u001b[43m(\u001b[49m\u001b[43m)\u001b[49m\n",
      "File \u001b[0;32m/opt/spark/python/lib/py4j-0.10.9.7-src.zip/py4j/java_gateway.py:1321\u001b[0m, in \u001b[0;36mJavaMember.__call__\u001b[0;34m(self, *args)\u001b[0m\n\u001b[1;32m   1314\u001b[0m args_command, temp_args \u001b[38;5;241m=\u001b[39m \u001b[38;5;28mself\u001b[39m\u001b[38;5;241m.\u001b[39m_build_args(\u001b[38;5;241m*\u001b[39margs)\n\u001b[1;32m   1316\u001b[0m command \u001b[38;5;241m=\u001b[39m proto\u001b[38;5;241m.\u001b[39mCALL_COMMAND_NAME \u001b[38;5;241m+\u001b[39m\\\n\u001b[1;32m   1317\u001b[0m     \u001b[38;5;28mself\u001b[39m\u001b[38;5;241m.\u001b[39mcommand_header \u001b[38;5;241m+\u001b[39m\\\n\u001b[1;32m   1318\u001b[0m     args_command \u001b[38;5;241m+\u001b[39m\\\n\u001b[1;32m   1319\u001b[0m     proto\u001b[38;5;241m.\u001b[39mEND_COMMAND_PART\n\u001b[0;32m-> 1321\u001b[0m answer \u001b[38;5;241m=\u001b[39m \u001b[38;5;28;43mself\u001b[39;49m\u001b[38;5;241;43m.\u001b[39;49m\u001b[43mgateway_client\u001b[49m\u001b[38;5;241;43m.\u001b[39;49m\u001b[43msend_command\u001b[49m\u001b[43m(\u001b[49m\u001b[43mcommand\u001b[49m\u001b[43m)\u001b[49m\n\u001b[1;32m   1322\u001b[0m return_value \u001b[38;5;241m=\u001b[39m get_return_value(\n\u001b[1;32m   1323\u001b[0m     answer, \u001b[38;5;28mself\u001b[39m\u001b[38;5;241m.\u001b[39mgateway_client, \u001b[38;5;28mself\u001b[39m\u001b[38;5;241m.\u001b[39mtarget_id, \u001b[38;5;28mself\u001b[39m\u001b[38;5;241m.\u001b[39mname)\n\u001b[1;32m   1325\u001b[0m \u001b[38;5;28;01mfor\u001b[39;00m temp_arg \u001b[38;5;129;01min\u001b[39;00m temp_args:\n",
      "File \u001b[0;32m/opt/spark/python/lib/py4j-0.10.9.7-src.zip/py4j/java_gateway.py:1038\u001b[0m, in \u001b[0;36mGatewayClient.send_command\u001b[0;34m(self, command, retry, binary)\u001b[0m\n\u001b[1;32m   1036\u001b[0m connection \u001b[38;5;241m=\u001b[39m \u001b[38;5;28mself\u001b[39m\u001b[38;5;241m.\u001b[39m_get_connection()\n\u001b[1;32m   1037\u001b[0m \u001b[38;5;28;01mtry\u001b[39;00m:\n\u001b[0;32m-> 1038\u001b[0m     response \u001b[38;5;241m=\u001b[39m \u001b[43mconnection\u001b[49m\u001b[38;5;241;43m.\u001b[39;49m\u001b[43msend_command\u001b[49m\u001b[43m(\u001b[49m\u001b[43mcommand\u001b[49m\u001b[43m)\u001b[49m\n\u001b[1;32m   1039\u001b[0m     \u001b[38;5;28;01mif\u001b[39;00m binary:\n\u001b[1;32m   1040\u001b[0m         \u001b[38;5;28;01mreturn\u001b[39;00m response, \u001b[38;5;28mself\u001b[39m\u001b[38;5;241m.\u001b[39m_create_connection_guard(connection)\n",
      "File \u001b[0;32m/opt/spark/python/lib/py4j-0.10.9.7-src.zip/py4j/clientserver.py:511\u001b[0m, in \u001b[0;36mClientServerConnection.send_command\u001b[0;34m(self, command)\u001b[0m\n\u001b[1;32m    509\u001b[0m \u001b[38;5;28;01mtry\u001b[39;00m:\n\u001b[1;32m    510\u001b[0m     \u001b[38;5;28;01mwhile\u001b[39;00m \u001b[38;5;28;01mTrue\u001b[39;00m:\n\u001b[0;32m--> 511\u001b[0m         answer \u001b[38;5;241m=\u001b[39m smart_decode(\u001b[38;5;28;43mself\u001b[39;49m\u001b[38;5;241;43m.\u001b[39;49m\u001b[43mstream\u001b[49m\u001b[38;5;241;43m.\u001b[39;49m\u001b[43mreadline\u001b[49m\u001b[43m(\u001b[49m\u001b[43m)\u001b[49m[:\u001b[38;5;241m-\u001b[39m\u001b[38;5;241m1\u001b[39m])\n\u001b[1;32m    512\u001b[0m         logger\u001b[38;5;241m.\u001b[39mdebug(\u001b[38;5;124m\"\u001b[39m\u001b[38;5;124mAnswer received: \u001b[39m\u001b[38;5;132;01m{0}\u001b[39;00m\u001b[38;5;124m\"\u001b[39m\u001b[38;5;241m.\u001b[39mformat(answer))\n\u001b[1;32m    513\u001b[0m         \u001b[38;5;66;03m# Happens when a the other end is dead. There might be an empty\u001b[39;00m\n\u001b[1;32m    514\u001b[0m         \u001b[38;5;66;03m# answer before the socket raises an error.\u001b[39;00m\n",
      "File \u001b[0;32m/usr/lib/python3.10/socket.py:705\u001b[0m, in \u001b[0;36mSocketIO.readinto\u001b[0;34m(self, b)\u001b[0m\n\u001b[1;32m    703\u001b[0m \u001b[38;5;28;01mwhile\u001b[39;00m \u001b[38;5;28;01mTrue\u001b[39;00m:\n\u001b[1;32m    704\u001b[0m     \u001b[38;5;28;01mtry\u001b[39;00m:\n\u001b[0;32m--> 705\u001b[0m         \u001b[38;5;28;01mreturn\u001b[39;00m \u001b[38;5;28;43mself\u001b[39;49m\u001b[38;5;241;43m.\u001b[39;49m\u001b[43m_sock\u001b[49m\u001b[38;5;241;43m.\u001b[39;49m\u001b[43mrecv_into\u001b[49m\u001b[43m(\u001b[49m\u001b[43mb\u001b[49m\u001b[43m)\u001b[49m\n\u001b[1;32m    706\u001b[0m     \u001b[38;5;28;01mexcept\u001b[39;00m timeout:\n\u001b[1;32m    707\u001b[0m         \u001b[38;5;28mself\u001b[39m\u001b[38;5;241m.\u001b[39m_timeout_occurred \u001b[38;5;241m=\u001b[39m \u001b[38;5;28;01mTrue\u001b[39;00m\n",
      "\u001b[0;31mKeyboardInterrupt\u001b[0m: "
     ]
    }
   ],
   "source": [
    "try:\n",
    "    invoice_writer_query = flattened_df.writeStream.format(\n",
    "        'json'\n",
    "    ).queryName('Flattened Invoice Writer').outputMode('append').option(\n",
    "        'path', 'output'\n",
    "    ).option('checkpointLocation', 'chk-point-dir').trigger(\n",
    "        processingTime = '1 minute'\n",
    "    ).start()\n",
    "    invoice_writer_query.awaitTermination()\n",
    "except KeyboardInterrupt:\n",
    "    print('Stopped')"
   ]
  }
 ],
 "metadata": {
  "kernelspec": {
   "display_name": "Python 3 (ipykernel)",
   "language": "python",
   "name": "python3"
  },
  "language_info": {
   "codemirror_mode": {
    "name": "ipython",
    "version": 3
   },
   "file_extension": ".py",
   "mimetype": "text/x-python",
   "name": "python",
   "nbconvert_exporter": "python",
   "pygments_lexer": "ipython3",
   "version": "3.10.6"
  }
 },
 "nbformat": 4,
 "nbformat_minor": 5
}

{
 "cells": [
  {
   "cell_type": "code",
   "execution_count": 1,
   "id": "4e1136d1-6278-44f9-8cc9-5c29b4a51569",
   "metadata": {},
   "outputs": [],
   "source": [
    "import findspark\n",
    "findspark.init()"
   ]
  },
  {
   "cell_type": "code",
   "execution_count": null,
   "id": "97c5dfbf-1d5a-4cc8-b472-0fed71a903ec",
   "metadata": {},
   "outputs": [],
   "source": [
    "from pyspark.sql import SparkSession\n",
    "spark = (SparkSession\n",
    "         .builder\n",
    "         .appName('Higher Order Functions')\n",
    "         .master('local[3]')\n",
    "         .getOrCreate()\n",
    "        )\n",
    "spark"
   ]
  },
  {
   "cell_type": "code",
   "execution_count": 4,
   "id": "6d6b2238-4d31-4d64-b87e-7ec98ee3dc94",
   "metadata": {},
   "outputs": [],
   "source": [
    "temperature_list = [\n",
    "    [[35,36,32,30,40,42,38]],\n",
    "    [[31,32,34,55,56]]\n",
    "]\n",
    "schema = 'celsius array<int>'\n",
    "df = spark.createDataFrame(temperature_list, schema)"
   ]
  },
  {
   "cell_type": "code",
   "execution_count": 5,
   "id": "d34ef9f9-235c-4750-a212-ff464014283b",
   "metadata": {},
   "outputs": [
    {
     "name": "stderr",
     "output_type": "stream",
     "text": [
      "                                                                                \r"
     ]
    },
    {
     "name": "stdout",
     "output_type": "stream",
     "text": [
      "+----------------------------+\n",
      "|celsius                     |\n",
      "+----------------------------+\n",
      "|[35, 36, 32, 30, 40, 42, 38]|\n",
      "|[31, 32, 34, 55, 56]        |\n",
      "+----------------------------+\n",
      "\n"
     ]
    }
   ],
   "source": [
    "df.show(truncate=False)"
   ]
  },
  {
   "cell_type": "markdown",
   "id": "9427896b-d9c4-4aee-aa7b-be8c361916dd",
   "metadata": {},
   "source": [
    "#### Convert each value from Celsius to Farenheit\n",
    "###### F = (C * 9) / 5 + 32"
   ]
  },
  {
   "cell_type": "code",
   "execution_count": 6,
   "id": "dee04517-79b1-4b1b-9b83-c610602ddcce",
   "metadata": {},
   "outputs": [],
   "source": [
    "df.createOrReplaceTempView('t_c')"
   ]
  },
  {
   "cell_type": "code",
   "execution_count": 10,
   "id": "19d68294-fd5b-4aff-b2e3-adda45ef6670",
   "metadata": {},
   "outputs": [
    {
     "name": "stdout",
     "output_type": "stream",
     "text": [
      "+----------------------------+\n",
      "|celsius                     |\n",
      "+----------------------------+\n",
      "|[35, 36, 32, 30, 40, 42, 38]|\n",
      "|[31, 32, 34, 55, 56]        |\n",
      "+----------------------------+\n",
      "\n"
     ]
    }
   ],
   "source": [
    "spark.sql('select * from t_c').show(truncate=False)"
   ]
  },
  {
   "cell_type": "code",
   "execution_count": 11,
   "id": "34aae22d-e293-43b9-94f3-15ce9111b47d",
   "metadata": {},
   "outputs": [
    {
     "name": "stdout",
     "output_type": "stream",
     "text": [
      "+----------------------------+---------------------------------------------+\n",
      "|celsius                     |farenheit                                    |\n",
      "+----------------------------+---------------------------------------------+\n",
      "|[35, 36, 32, 30, 40, 42, 38]|[95.0, 96.8, 89.6, 86.0, 104.0, 107.6, 100.4]|\n",
      "|[31, 32, 34, 55, 56]        |[87.8, 89.6, 93.2, 131.0, 132.8]             |\n",
      "+----------------------------+---------------------------------------------+\n",
      "\n"
     ]
    }
   ],
   "source": [
    "spark.sql(\n",
    "    \"\"\"\n",
    "        select celsius, transform(celsius, c -> (c*9)/5 + 32) as farenheit\n",
    "        from t_c\n",
    "    \"\"\"\n",
    ").show(truncate=False)"
   ]
  },
  {
   "cell_type": "markdown",
   "id": "045cbb82-85f7-4ff5-a619-aa4807a3d248",
   "metadata": {},
   "source": [
    "#### Filer temperatures > 38 celsius"
   ]
  },
  {
   "cell_type": "code",
   "execution_count": 13,
   "id": "70e79877-0629-43e1-872e-7bd2776807e7",
   "metadata": {},
   "outputs": [
    {
     "name": "stdout",
     "output_type": "stream",
     "text": [
      "+----------------------------+--------+\n",
      "|celsius                     |high    |\n",
      "+----------------------------+--------+\n",
      "|[35, 36, 32, 30, 40, 42, 38]|[40, 42]|\n",
      "|[31, 32, 34, 55, 56]        |[55, 56]|\n",
      "+----------------------------+--------+\n",
      "\n"
     ]
    }
   ],
   "source": [
    "spark.sql(\n",
    "    \"\"\"\n",
    "        select celsius, filter(celsius, c -> c > 38) as high from t_c\n",
    "    \"\"\"\n",
    ").show(truncate=False)"
   ]
  },
  {
   "cell_type": "markdown",
   "id": "9ba8cff6-7f24-4a42-81bb-5f49fe107697",
   "metadata": {},
   "source": [
    "#### Check if any of the records has 38 celsius in the list"
   ]
  },
  {
   "cell_type": "code",
   "execution_count": 15,
   "id": "feb37a3d-017c-4439-8e29-50b8a54396d7",
   "metadata": {},
   "outputs": [
    {
     "name": "stdout",
     "output_type": "stream",
     "text": [
      "+----------------------------+------+\n",
      "|celsius                     |exists|\n",
      "+----------------------------+------+\n",
      "|[35, 36, 32, 30, 40, 42, 38]|true  |\n",
      "|[31, 32, 34, 55, 56]        |false |\n",
      "+----------------------------+------+\n",
      "\n"
     ]
    }
   ],
   "source": [
    "spark.sql(\n",
    "    \"\"\"\n",
    "        select celsius, exists(celsius, c -> c = 38) as exists from t_c\n",
    "    \"\"\"\n",
    ").show(truncate=False)"
   ]
  },
  {
   "cell_type": "markdown",
   "id": "dea95a6e-3951-4b7a-ad26-e4dde59aa80b",
   "metadata": {},
   "source": [
    "#### Calculate the average temperature and convert to Farenheit"
   ]
  },
  {
   "cell_type": "code",
   "execution_count": 18,
   "id": "c2fc2571-6080-4820-9997-dd47f17a21e2",
   "metadata": {},
   "outputs": [
    {
     "name": "stdout",
     "output_type": "stream",
     "text": [
      "+----------------------------+------------------+\n",
      "|celsius                     |avg_farenheit     |\n",
      "+----------------------------+------------------+\n",
      "|[35, 36, 32, 30, 40, 42, 38]|97.05714285714286 |\n",
      "|[31, 32, 34, 55, 56]        |106.88000000000001|\n",
      "+----------------------------+------------------+\n",
      "\n"
     ]
    }
   ],
   "source": [
    "spark.sql(\n",
    "    \"\"\"\n",
    "        select celsius,\n",
    "        reduce(\n",
    "            celsius,\n",
    "            0,\n",
    "            (c,acc) -> c + acc,\n",
    "            acc -> (acc / size(celsius)) * 9 / 5 + 32\n",
    "        ) as avg_farenheit\n",
    "        from t_c\n",
    "    \"\"\"\n",
    ").show(truncate=False)"
   ]
  },
  {
   "cell_type": "code",
   "execution_count": null,
   "id": "ea520116-f2f0-4548-abcb-7dc4f8bc0eae",
   "metadata": {},
   "outputs": [],
   "source": []
  }
 ],
 "metadata": {
  "kernelspec": {
   "display_name": "Python 3 (ipykernel)",
   "language": "python",
   "name": "python3"
  },
  "language_info": {
   "codemirror_mode": {
    "name": "ipython",
    "version": 3
   },
   "file_extension": ".py",
   "mimetype": "text/x-python",
   "name": "python",
   "nbconvert_exporter": "python",
   "pygments_lexer": "ipython3",
   "version": "3.10.6"
  }
 },
 "nbformat": 4,
 "nbformat_minor": 5
}

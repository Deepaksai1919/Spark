{
  "nbformat": 4,
  "nbformat_minor": 0,
  "metadata": {
    "colab": {
      "provenance": [],
      "authorship_tag": "ABX9TyM6sI2ucsnOz2P944ZHgiOD",
      "include_colab_link": true
    },
    "kernelspec": {
      "name": "python3",
      "display_name": "Python 3"
    },
    "language_info": {
      "name": "python"
    }
  },
  "cells": [
    {
      "cell_type": "markdown",
      "metadata": {
        "id": "view-in-github",
        "colab_type": "text"
      },
      "source": [
        "<a href=\"https://colab.research.google.com/github/Deepaksai1919/Spark/blob/DrAminKarami-Udemy/Working_With_RDD(Part2).ipynb\" target=\"_parent\"><img src=\"https://colab.research.google.com/assets/colab-badge.svg\" alt=\"Open In Colab\"/></a>"
      ]
    },
    {
      "cell_type": "code",
      "execution_count": 1,
      "metadata": {
        "colab": {
          "base_uri": "https://localhost:8080/"
        },
        "id": "AIVOpW9iIMGp",
        "outputId": "3535f7ab-875f-4430-9132-e7f733276389"
      },
      "outputs": [
        {
          "output_type": "stream",
          "name": "stdout",
          "text": [
            "Looking in indexes: https://pypi.org/simple, https://us-python.pkg.dev/colab-wheels/public/simple/\n",
            "Collecting pyspark\n",
            "  Downloading pyspark-3.4.0.tar.gz (310.8 MB)\n",
            "\u001b[2K     \u001b[90m━━━━━━━━━━━━━━━━━━━━━━━━━━━━━━━━━━━━━━━\u001b[0m \u001b[32m310.8/310.8 MB\u001b[0m \u001b[31m2.1 MB/s\u001b[0m eta \u001b[36m0:00:00\u001b[0m\n",
            "\u001b[?25h  Preparing metadata (setup.py) ... \u001b[?25l\u001b[?25hdone\n",
            "Requirement already satisfied: py4j==0.10.9.7 in /usr/local/lib/python3.10/dist-packages (from pyspark) (0.10.9.7)\n",
            "Building wheels for collected packages: pyspark\n",
            "  Building wheel for pyspark (setup.py) ... \u001b[?25l\u001b[?25hdone\n",
            "  Created wheel for pyspark: filename=pyspark-3.4.0-py2.py3-none-any.whl size=311317130 sha256=90b5eee35c927df8067f77f81b2460fc29bc3952f44a4d94f3ac00b17baa1f29\n",
            "  Stored in directory: /root/.cache/pip/wheels/7b/1b/4b/3363a1d04368e7ff0d408e57ff57966fcdf00583774e761327\n",
            "Successfully built pyspark\n",
            "Installing collected packages: pyspark\n",
            "Successfully installed pyspark-3.4.0\n"
          ]
        }
      ],
      "source": [
        "!pip3 install pyspark"
      ]
    },
    {
      "cell_type": "code",
      "source": [
        "from pyspark import SparkContext, SparkConf\n",
        "\n",
        "conf = SparkConf().setAppName('RDD Part2').setMaster('local[*]')\n",
        "\n",
        "sc = SparkContext(conf = conf)\n",
        "\n",
        "sc"
      ],
      "metadata": {
        "colab": {
          "base_uri": "https://localhost:8080/",
          "height": 196
        },
        "id": "EbZgHJm7JCtk",
        "outputId": "abd57d29-236b-42cc-9eb3-a82d2db576be"
      },
      "execution_count": 3,
      "outputs": [
        {
          "output_type": "execute_result",
          "data": {
            "text/plain": [
              "<SparkContext master=local[*] appName=RDD Part2>"
            ],
            "text/html": [
              "\n",
              "        <div>\n",
              "            <p><b>SparkContext</b></p>\n",
              "\n",
              "            <p><a href=\"http://14a8aec47677:4040\">Spark UI</a></p>\n",
              "\n",
              "            <dl>\n",
              "              <dt>Version</dt>\n",
              "                <dd><code>v3.4.0</code></dd>\n",
              "              <dt>Master</dt>\n",
              "                <dd><code>local[*]</code></dd>\n",
              "              <dt>AppName</dt>\n",
              "                <dd><code>RDD Part2</code></dd>\n",
              "            </dl>\n",
              "        </div>\n",
              "        "
            ]
          },
          "metadata": {},
          "execution_count": 3
        }
      ]
    },
    {
      "cell_type": "code",
      "source": [
        "import random\n",
        "\n",
        "dataset1 = random.sample(range(40), 10)\n",
        "dataset2 = random.sample(range(40), 10)"
      ],
      "metadata": {
        "id": "UY-f2biNIY0g"
      },
      "execution_count": 2,
      "outputs": []
    },
    {
      "cell_type": "code",
      "source": [
        "rdd1 = sc.parallelize(dataset1, 4)\n",
        "rdd2 = sc.parallelize(dataset2, 2)"
      ],
      "metadata": {
        "id": "JdmlCsc1I7r_"
      },
      "execution_count": 4,
      "outputs": []
    },
    {
      "cell_type": "code",
      "source": [
        "print(rdd1.getNumPartitions())\n",
        "print(rdd2.getNumPartitions())\n"
      ],
      "metadata": {
        "colab": {
          "base_uri": "https://localhost:8080/"
        },
        "id": "ow2R7rsbJXZG",
        "outputId": "4ff5e27f-ad75-4d98-a463-cac70ef56172"
      },
      "execution_count": 5,
      "outputs": [
        {
          "output_type": "stream",
          "name": "stdout",
          "text": [
            "4\n",
            "2\n"
          ]
        }
      ]
    },
    {
      "cell_type": "code",
      "source": [
        "print(rdd1.glom().collect())\n",
        "print(rdd2.glom().collect())"
      ],
      "metadata": {
        "colab": {
          "base_uri": "https://localhost:8080/"
        },
        "id": "jA7X8HwYJlCK",
        "outputId": "19718222-24d8-4d7f-9f1f-f808e33648b3"
      },
      "execution_count": 6,
      "outputs": [
        {
          "output_type": "stream",
          "name": "stdout",
          "text": [
            "[[25, 14], [26, 21], [39, 6], [0, 18, 27, 16]]\n",
            "[[34, 27, 4, 16, 11], [35, 3, 39, 29, 2]]\n"
          ]
        }
      ]
    },
    {
      "cell_type": "markdown",
      "source": [
        "Union of rdd will add the partitions in both rdds to create new rdd"
      ],
      "metadata": {
        "id": "U-GxQEJnKBQJ"
      }
    },
    {
      "cell_type": "code",
      "source": [
        "rdd_union = rdd1.union(rdd2)\n",
        "\n",
        "print(rdd_union.glom().collect())\n",
        "print(rdd_union.getNumPartitions())"
      ],
      "metadata": {
        "colab": {
          "base_uri": "https://localhost:8080/"
        },
        "id": "9gQlOkemJgtH",
        "outputId": "f5998e38-4c47-4f7c-9d9c-5e6a8a254a5b"
      },
      "execution_count": 8,
      "outputs": [
        {
          "output_type": "stream",
          "name": "stdout",
          "text": [
            "[[25, 14], [26, 21], [39, 6], [0, 18, 27, 16], [34, 27, 4, 16, 11], [35, 3, 39, 29, 2]]\n",
            "6\n"
          ]
        }
      ]
    },
    {
      "cell_type": "markdown",
      "source": [
        "Intersect will create the same number of partitions as that of union. But the partitions can be empty."
      ],
      "metadata": {
        "id": "1LMmW63gK0fi"
      }
    },
    {
      "cell_type": "code",
      "source": [
        "rdd_intersect = rdd1.intersection(rdd2)\n",
        "\n",
        "print(rdd_intersect.collect())\n",
        "print(rdd_intersect.glom().collect())"
      ],
      "metadata": {
        "colab": {
          "base_uri": "https://localhost:8080/"
        },
        "id": "MGD5AdyoJ5mm",
        "outputId": "d66923ef-164f-4253-f233-92a2ca1a01e8"
      },
      "execution_count": 9,
      "outputs": [
        {
          "output_type": "stream",
          "name": "stdout",
          "text": [
            "[39, 27, 16]\n",
            "[[], [], [], [39, 27], [16], []]\n"
          ]
        }
      ]
    },
    {
      "cell_type": "code",
      "source": [
        "count = 0\n",
        "for partition in rdd_intersect.glom().collect():\n",
        "  if len(partition) == 0:\n",
        "    count += 1\n",
        "print('Num of empty partitions:', count)"
      ],
      "metadata": {
        "colab": {
          "base_uri": "https://localhost:8080/"
        },
        "id": "zwKk2S23KWu5",
        "outputId": "59591506-f3c4-4ee1-895d-61fa3d78755c"
      },
      "execution_count": 11,
      "outputs": [
        {
          "output_type": "stream",
          "name": "stdout",
          "text": [
            "Num of empty partitions: 4\n"
          ]
        }
      ]
    },
    {
      "cell_type": "markdown",
      "source": [
        "`.coalesce(n)` will reduce the number of partitions in an rdd to `n`. It is used for running the operations more efficiently after filtering down a large dataset."
      ],
      "metadata": {
        "id": "JIKqlfM6LjxO"
      }
    },
    {
      "cell_type": "code",
      "source": [
        "rdd_intersect.coalesce(1).glom().collect()"
      ],
      "metadata": {
        "colab": {
          "base_uri": "https://localhost:8080/"
        },
        "id": "uaArjDNbLVQy",
        "outputId": "8d8ef032-b29d-49f1-a3ee-a26991a36bf8"
      },
      "execution_count": 12,
      "outputs": [
        {
          "output_type": "execute_result",
          "data": {
            "text/plain": [
              "[[39, 27, 16]]"
            ]
          },
          "metadata": {},
          "execution_count": 12
        }
      ]
    },
    {
      "cell_type": "code",
      "source": [
        "rdd_intersect.coalesce(4).glom().collect()"
      ],
      "metadata": {
        "colab": {
          "base_uri": "https://localhost:8080/"
        },
        "id": "TAITtoY1MpkF",
        "outputId": "5889aa8b-26db-4166-9f78-5f7ab93d7a4d"
      },
      "execution_count": 13,
      "outputs": [
        {
          "output_type": "execute_result",
          "data": {
            "text/plain": [
              "[[], [39, 27], [], [16]]"
            ]
          },
          "metadata": {},
          "execution_count": 13
        }
      ]
    },
    {
      "cell_type": "markdown",
      "source": [
        "Even if we pass a higher number than the actual number of partitions, there are only the actual number of partitions"
      ],
      "metadata": {
        "id": "RhOvsj_AM0jk"
      }
    },
    {
      "cell_type": "code",
      "source": [
        "print(rdd_intersect.getNumPartitions())\n",
        "print(rdd_intersect.coalesce(10).glom().collect())\n",
        "print(rdd_intersect.coalesce(10).glom().getNumPartitions())"
      ],
      "metadata": {
        "colab": {
          "base_uri": "https://localhost:8080/"
        },
        "id": "ZaZR9Z_sMw3s",
        "outputId": "d2356c84-93d0-4091-ce03-7039378c0eb8"
      },
      "execution_count": 16,
      "outputs": [
        {
          "output_type": "stream",
          "name": "stdout",
          "text": [
            "6\n",
            "[[], [], [], [16], [39, 27], []]\n",
            "6\n"
          ]
        }
      ]
    },
    {
      "cell_type": "markdown",
      "source": [
        "`.takeSample` will get a random sample. We can the result is different for the same code executed multiple times."
      ],
      "metadata": {
        "id": "WoEpJTImNuBY"
      }
    },
    {
      "cell_type": "code",
      "source": [
        "rdd1.takeSample(False, 5)"
      ],
      "metadata": {
        "colab": {
          "base_uri": "https://localhost:8080/"
        },
        "id": "BR5mdV4TNQ1d",
        "outputId": "ff7c030a-dd35-4c03-aa5c-72d847b40a46"
      },
      "execution_count": 17,
      "outputs": [
        {
          "output_type": "execute_result",
          "data": {
            "text/plain": [
              "[25, 18, 21, 0, 39]"
            ]
          },
          "metadata": {},
          "execution_count": 17
        }
      ]
    },
    {
      "cell_type": "code",
      "source": [
        "rdd1.takeSample(False, 5)"
      ],
      "metadata": {
        "colab": {
          "base_uri": "https://localhost:8080/"
        },
        "id": "tLxlNRkMNo8D",
        "outputId": "d76308dd-cbc8-4ade-d2b3-d1afb9b7a588"
      },
      "execution_count": 18,
      "outputs": [
        {
          "output_type": "execute_result",
          "data": {
            "text/plain": [
              "[21, 0, 6, 18, 39]"
            ]
          },
          "metadata": {},
          "execution_count": 18
        }
      ]
    },
    {
      "cell_type": "markdown",
      "source": [
        "Same as `.takeSample` but the result is taken from ordered dataset. So will get the same result when executed multiple times"
      ],
      "metadata": {
        "id": "phHpdSVSOWZ8"
      }
    },
    {
      "cell_type": "code",
      "source": [
        "print(rdd1.collect())\n",
        "print(rdd1.takeOrdered(5))\n",
        "print(rdd1.takeOrdered(5, key=lambda x: -x))"
      ],
      "metadata": {
        "colab": {
          "base_uri": "https://localhost:8080/"
        },
        "id": "saFPsyxuOEP1",
        "outputId": "45432236-e7a7-4549-b3cd-902a48be2f68"
      },
      "execution_count": 20,
      "outputs": [
        {
          "output_type": "stream",
          "name": "stdout",
          "text": [
            "[25, 14, 26, 21, 39, 6, 0, 18, 27, 16]\n",
            "[0, 6, 14, 16, 18]\n",
            "[39, 27, 26, 25, 21]\n"
          ]
        }
      ]
    },
    {
      "cell_type": "markdown",
      "source": [
        "`.repartition(n)` Reshuffles the data to create `n` number of partitions. It can be used to `increase` or `decrease` the number of partitions. Reshuffling of data will always take place in case of repartition."
      ],
      "metadata": {
        "id": "bSucC9ipL_BL"
      }
    },
    {
      "cell_type": "code",
      "source": [
        "print(rdd1.getNumPartitions())\n",
        "print(rdd1.glom().collect())"
      ],
      "metadata": {
        "colab": {
          "base_uri": "https://localhost:8080/"
        },
        "id": "2rskwswjMhF0",
        "outputId": "5ebef9a7-23b9-4219-d179-9544839f91fa"
      },
      "execution_count": 22,
      "outputs": [
        {
          "output_type": "stream",
          "name": "stdout",
          "text": [
            "4\n",
            "[[25, 14], [26, 21], [39, 6], [0, 18, 27, 16]]\n"
          ]
        }
      ]
    },
    {
      "cell_type": "code",
      "source": [
        "print(rdd1.repartition(2).glom().collect())"
      ],
      "metadata": {
        "colab": {
          "base_uri": "https://localhost:8080/"
        },
        "id": "rNQFf5T6Oyu3",
        "outputId": "07b0af5e-5c53-49b9-a64a-96e5870640e4"
      },
      "execution_count": 23,
      "outputs": [
        {
          "output_type": "stream",
          "name": "stdout",
          "text": [
            "[[39, 6, 0, 18, 27, 16], [25, 14, 26, 21]]\n"
          ]
        }
      ]
    },
    {
      "cell_type": "markdown",
      "source": [
        "Even if we mention the repartition size to equal to the size of dataset, empty partitions can be created"
      ],
      "metadata": {
        "id": "6ztzfPEIPDKZ"
      }
    },
    {
      "cell_type": "code",
      "source": [
        "print(rdd1.repartition(10).glom().collect())"
      ],
      "metadata": {
        "colab": {
          "base_uri": "https://localhost:8080/"
        },
        "id": "eeGUMVQXO4Gk",
        "outputId": "34575103-99f9-44bd-8375-52102a10b16c"
      },
      "execution_count": 25,
      "outputs": [
        {
          "output_type": "stream",
          "name": "stdout",
          "text": [
            "[[], [], [], [], [26, 21], [], [], [], [0, 18, 27, 16], [25, 14, 39, 6]]\n"
          ]
        }
      ]
    },
    {
      "cell_type": "code",
      "source": [
        "from pprint import pprint"
      ],
      "metadata": {
        "id": "b9Q0LUK1QieF"
      },
      "execution_count": 28,
      "outputs": []
    },
    {
      "cell_type": "code",
      "source": [
        "rdd_kv = sc.parallelize([(1,10),(1,12),(2,15),(4,18),(2,20),(5,30),(1,19),(4,10)], 4)\n",
        "pprint(rdd_kv.glom().collect())"
      ],
      "metadata": {
        "colab": {
          "base_uri": "https://localhost:8080/"
        },
        "id": "oeJB3I31O8GU",
        "outputId": "21472d78-b7b7-42d1-df4d-d3a9104647e0"
      },
      "execution_count": 29,
      "outputs": [
        {
          "output_type": "stream",
          "name": "stdout",
          "text": [
            "[[(1, 10), (1, 12)], [(2, 15), (4, 18)], [(2, 20), (5, 30)], [(1, 19), (4, 10)]]\n"
          ]
        }
      ]
    },
    {
      "cell_type": "markdown",
      "source": [
        "`reduceByKey` will also create the same number of partitions as that of parent rdd. So there might be empty partitions in the resulting rdd"
      ],
      "metadata": {
        "id": "cPQSAzO5RHAc"
      }
    },
    {
      "cell_type": "code",
      "source": [
        "pprint(rdd_kv.reduceByKey(lambda x,y: x+y).glom().collect())"
      ],
      "metadata": {
        "colab": {
          "base_uri": "https://localhost:8080/"
        },
        "id": "JJPFomiYQTrF",
        "outputId": "75986d43-8023-4115-8921-9895218c4628"
      },
      "execution_count": 31,
      "outputs": [
        {
          "output_type": "stream",
          "name": "stdout",
          "text": [
            "[[(4, 28)], [(1, 41), (5, 30)], [(2, 35)], []]\n"
          ]
        }
      ]
    },
    {
      "cell_type": "code",
      "source": [
        "import pandas as pd\n",
        "data = pd.DataFrame({'Key': rdd_kv.keys().collect(), 'Value': rdd_kv.values().collect()})\n",
        "data"
      ],
      "metadata": {
        "colab": {
          "base_uri": "https://localhost:8080/",
          "height": 300
        },
        "id": "smEBeTrdQ1VZ",
        "outputId": "27ec4cae-9e30-4956-f57f-5966bc8b223e"
      },
      "execution_count": 36,
      "outputs": [
        {
          "output_type": "execute_result",
          "data": {
            "text/plain": [
              "   Key  Value\n",
              "0    1     10\n",
              "1    1     12\n",
              "2    2     15\n",
              "3    4     18\n",
              "4    2     20\n",
              "5    5     30\n",
              "6    1     19\n",
              "7    4     10"
            ],
            "text/html": [
              "\n",
              "  <div id=\"df-5e69722a-0e16-4a89-96b7-5f54e5439851\">\n",
              "    <div class=\"colab-df-container\">\n",
              "      <div>\n",
              "<style scoped>\n",
              "    .dataframe tbody tr th:only-of-type {\n",
              "        vertical-align: middle;\n",
              "    }\n",
              "\n",
              "    .dataframe tbody tr th {\n",
              "        vertical-align: top;\n",
              "    }\n",
              "\n",
              "    .dataframe thead th {\n",
              "        text-align: right;\n",
              "    }\n",
              "</style>\n",
              "<table border=\"1\" class=\"dataframe\">\n",
              "  <thead>\n",
              "    <tr style=\"text-align: right;\">\n",
              "      <th></th>\n",
              "      <th>Key</th>\n",
              "      <th>Value</th>\n",
              "    </tr>\n",
              "  </thead>\n",
              "  <tbody>\n",
              "    <tr>\n",
              "      <th>0</th>\n",
              "      <td>1</td>\n",
              "      <td>10</td>\n",
              "    </tr>\n",
              "    <tr>\n",
              "      <th>1</th>\n",
              "      <td>1</td>\n",
              "      <td>12</td>\n",
              "    </tr>\n",
              "    <tr>\n",
              "      <th>2</th>\n",
              "      <td>2</td>\n",
              "      <td>15</td>\n",
              "    </tr>\n",
              "    <tr>\n",
              "      <th>3</th>\n",
              "      <td>4</td>\n",
              "      <td>18</td>\n",
              "    </tr>\n",
              "    <tr>\n",
              "      <th>4</th>\n",
              "      <td>2</td>\n",
              "      <td>20</td>\n",
              "    </tr>\n",
              "    <tr>\n",
              "      <th>5</th>\n",
              "      <td>5</td>\n",
              "      <td>30</td>\n",
              "    </tr>\n",
              "    <tr>\n",
              "      <th>6</th>\n",
              "      <td>1</td>\n",
              "      <td>19</td>\n",
              "    </tr>\n",
              "    <tr>\n",
              "      <th>7</th>\n",
              "      <td>4</td>\n",
              "      <td>10</td>\n",
              "    </tr>\n",
              "  </tbody>\n",
              "</table>\n",
              "</div>\n",
              "      <button class=\"colab-df-convert\" onclick=\"convertToInteractive('df-5e69722a-0e16-4a89-96b7-5f54e5439851')\"\n",
              "              title=\"Convert this dataframe to an interactive table.\"\n",
              "              style=\"display:none;\">\n",
              "        \n",
              "  <svg xmlns=\"http://www.w3.org/2000/svg\" height=\"24px\"viewBox=\"0 0 24 24\"\n",
              "       width=\"24px\">\n",
              "    <path d=\"M0 0h24v24H0V0z\" fill=\"none\"/>\n",
              "    <path d=\"M18.56 5.44l.94 2.06.94-2.06 2.06-.94-2.06-.94-.94-2.06-.94 2.06-2.06.94zm-11 1L8.5 8.5l.94-2.06 2.06-.94-2.06-.94L8.5 2.5l-.94 2.06-2.06.94zm10 10l.94 2.06.94-2.06 2.06-.94-2.06-.94-.94-2.06-.94 2.06-2.06.94z\"/><path d=\"M17.41 7.96l-1.37-1.37c-.4-.4-.92-.59-1.43-.59-.52 0-1.04.2-1.43.59L10.3 9.45l-7.72 7.72c-.78.78-.78 2.05 0 2.83L4 21.41c.39.39.9.59 1.41.59.51 0 1.02-.2 1.41-.59l7.78-7.78 2.81-2.81c.8-.78.8-2.07 0-2.86zM5.41 20L4 18.59l7.72-7.72 1.47 1.35L5.41 20z\"/>\n",
              "  </svg>\n",
              "      </button>\n",
              "      \n",
              "  <style>\n",
              "    .colab-df-container {\n",
              "      display:flex;\n",
              "      flex-wrap:wrap;\n",
              "      gap: 12px;\n",
              "    }\n",
              "\n",
              "    .colab-df-convert {\n",
              "      background-color: #E8F0FE;\n",
              "      border: none;\n",
              "      border-radius: 50%;\n",
              "      cursor: pointer;\n",
              "      display: none;\n",
              "      fill: #1967D2;\n",
              "      height: 32px;\n",
              "      padding: 0 0 0 0;\n",
              "      width: 32px;\n",
              "    }\n",
              "\n",
              "    .colab-df-convert:hover {\n",
              "      background-color: #E2EBFA;\n",
              "      box-shadow: 0px 1px 2px rgba(60, 64, 67, 0.3), 0px 1px 3px 1px rgba(60, 64, 67, 0.15);\n",
              "      fill: #174EA6;\n",
              "    }\n",
              "\n",
              "    [theme=dark] .colab-df-convert {\n",
              "      background-color: #3B4455;\n",
              "      fill: #D2E3FC;\n",
              "    }\n",
              "\n",
              "    [theme=dark] .colab-df-convert:hover {\n",
              "      background-color: #434B5C;\n",
              "      box-shadow: 0px 1px 3px 1px rgba(0, 0, 0, 0.15);\n",
              "      filter: drop-shadow(0px 1px 2px rgba(0, 0, 0, 0.3));\n",
              "      fill: #FFFFFF;\n",
              "    }\n",
              "  </style>\n",
              "\n",
              "      <script>\n",
              "        const buttonEl =\n",
              "          document.querySelector('#df-5e69722a-0e16-4a89-96b7-5f54e5439851 button.colab-df-convert');\n",
              "        buttonEl.style.display =\n",
              "          google.colab.kernel.accessAllowed ? 'block' : 'none';\n",
              "\n",
              "        async function convertToInteractive(key) {\n",
              "          const element = document.querySelector('#df-5e69722a-0e16-4a89-96b7-5f54e5439851');\n",
              "          const dataTable =\n",
              "            await google.colab.kernel.invokeFunction('convertToInteractive',\n",
              "                                                     [key], {});\n",
              "          if (!dataTable) return;\n",
              "\n",
              "          const docLinkHtml = 'Like what you see? Visit the ' +\n",
              "            '<a target=\"_blank\" href=https://colab.research.google.com/notebooks/data_table.ipynb>data table notebook</a>'\n",
              "            + ' to learn more about interactive tables.';\n",
              "          element.innerHTML = '';\n",
              "          dataTable['output_type'] = 'display_data';\n",
              "          await google.colab.output.renderOutput(dataTable, element);\n",
              "          const docLink = document.createElement('div');\n",
              "          docLink.innerHTML = docLinkHtml;\n",
              "          element.appendChild(docLink);\n",
              "        }\n",
              "      </script>\n",
              "    </div>\n",
              "  </div>\n",
              "  "
            ]
          },
          "metadata": {},
          "execution_count": 36
        }
      ]
    },
    {
      "cell_type": "code",
      "source": [
        "print(rdd_kv.reduceByKey(lambda x,y: x+y).sortByKey().glom().collect())"
      ],
      "metadata": {
        "colab": {
          "base_uri": "https://localhost:8080/"
        },
        "id": "7EfEy5PORtGr",
        "outputId": "c34d4bb2-4ea4-4cb1-c319-860d2723b7e8"
      },
      "execution_count": 37,
      "outputs": [
        {
          "output_type": "stream",
          "name": "stdout",
          "text": [
            "[[(1, 41), (2, 35)], [(4, 28)], [(5, 30)], []]\n"
          ]
        }
      ]
    },
    {
      "cell_type": "code",
      "source": [
        "rdd_kv.countByKey()"
      ],
      "metadata": {
        "colab": {
          "base_uri": "https://localhost:8080/"
        },
        "id": "LyGRR8snSZNZ",
        "outputId": "46e5fe36-528b-41a3-e7ab-2a532d60fbc0"
      },
      "execution_count": 38,
      "outputs": [
        {
          "output_type": "execute_result",
          "data": {
            "text/plain": [
              "defaultdict(int, {1: 3, 2: 2, 4: 2, 5: 1})"
            ]
          },
          "metadata": {},
          "execution_count": 38
        }
      ]
    },
    {
      "cell_type": "code",
      "source": [
        "rdd_grp = rdd_kv.groupByKey()"
      ],
      "metadata": {
        "id": "9Yl4W5w0S8qm"
      },
      "execution_count": 45,
      "outputs": []
    },
    {
      "cell_type": "code",
      "source": [
        "rdd_grp.glom().collect()"
      ],
      "metadata": {
        "colab": {
          "base_uri": "https://localhost:8080/"
        },
        "id": "o6YHpqn_S_mA",
        "outputId": "808e387c-87c3-4b79-90f1-8175b7129f5e"
      },
      "execution_count": 46,
      "outputs": [
        {
          "output_type": "execute_result",
          "data": {
            "text/plain": [
              "[[(4, <pyspark.resultiterable.ResultIterable at 0x7ff0c268a2f0>)],\n",
              " [(1, <pyspark.resultiterable.ResultIterable at 0x7ff0c2688430>),\n",
              "  (5, <pyspark.resultiterable.ResultIterable at 0x7ff0c2688e50>)],\n",
              " [(2, <pyspark.resultiterable.ResultIterable at 0x7ff0c2689810>)],\n",
              " []]"
            ]
          },
          "metadata": {},
          "execution_count": 46
        }
      ]
    },
    {
      "cell_type": "code",
      "source": [
        "for item in rdd_grp.collect():\n",
        "  print('Key:', item[0], 'Values:', [value for value in item[1]])"
      ],
      "metadata": {
        "colab": {
          "base_uri": "https://localhost:8080/"
        },
        "id": "hgeZrRcETXbF",
        "outputId": "2272c07d-8ca6-43c1-80e7-0acb121b72d4"
      },
      "execution_count": 47,
      "outputs": [
        {
          "output_type": "stream",
          "name": "stdout",
          "text": [
            "Key: 4 Values: [18, 10]\n",
            "Key: 1 Values: [10, 12, 19]\n",
            "Key: 5 Values: [30]\n",
            "Key: 2 Values: [15, 20]\n"
          ]
        }
      ]
    },
    {
      "cell_type": "code",
      "source": [
        "rdd_kv.lookup(1)"
      ],
      "metadata": {
        "colab": {
          "base_uri": "https://localhost:8080/"
        },
        "id": "ZRhOUDkYTpSD",
        "outputId": "0cea3e12-f29a-4896-ffb3-46a9ac248921"
      },
      "execution_count": 48,
      "outputs": [
        {
          "output_type": "execute_result",
          "data": {
            "text/plain": [
              "[10, 12, 19]"
            ]
          },
          "metadata": {},
          "execution_count": 48
        }
      ]
    },
    {
      "cell_type": "markdown",
      "source": [
        "https://spark.apache.org/docs/latest/rdd-programming-guide.html#rdd-persistence"
      ],
      "metadata": {
        "id": "_jMdRO5MaoaD"
      }
    },
    {
      "cell_type": "markdown",
      "source": [
        "`.cache()` is the shorthand notation for `.persist(storageLevel.MEMORY_ONLY)`"
      ],
      "metadata": {
        "id": "R4wrj1Y9aq7x"
      }
    },
    {
      "cell_type": "code",
      "source": [
        "rdd1.persist()"
      ],
      "metadata": {
        "colab": {
          "base_uri": "https://localhost:8080/"
        },
        "id": "PdgdQw40TrWh",
        "outputId": "fa69a920-1bd9-4d4b-a335-40260b479bda"
      },
      "execution_count": 53,
      "outputs": [
        {
          "output_type": "execute_result",
          "data": {
            "text/plain": [
              "ParallelCollectionRDD[0] at readRDDFromFile at PythonRDD.scala:287"
            ]
          },
          "metadata": {},
          "execution_count": 53
        }
      ]
    },
    {
      "cell_type": "code",
      "source": [
        "rdd1.collect()"
      ],
      "metadata": {
        "colab": {
          "base_uri": "https://localhost:8080/"
        },
        "id": "rMEazg8rbADF",
        "outputId": "ebc7bdd7-9613-444a-919f-e3f9194f6fa6"
      },
      "execution_count": 54,
      "outputs": [
        {
          "output_type": "execute_result",
          "data": {
            "text/plain": [
              "[25, 14, 26, 21, 39, 6, 0, 18, 27, 16]"
            ]
          },
          "metadata": {},
          "execution_count": 54
        }
      ]
    },
    {
      "cell_type": "code",
      "source": [
        "from pyspark import StorageLevel\n",
        "\n",
        "rdd2.persist(storageLevel = StorageLevel.MEMORY_AND_DISK)"
      ],
      "metadata": {
        "colab": {
          "base_uri": "https://localhost:8080/"
        },
        "id": "mtDZGNoMbIUP",
        "outputId": "5a0fb111-65be-40a1-cca8-3218d5f5811e"
      },
      "execution_count": 56,
      "outputs": [
        {
          "output_type": "execute_result",
          "data": {
            "text/plain": [
              "ParallelCollectionRDD[1] at readRDDFromFile at PythonRDD.scala:287"
            ]
          },
          "metadata": {},
          "execution_count": 56
        }
      ]
    },
    {
      "cell_type": "code",
      "source": [
        "rdd2.collect()"
      ],
      "metadata": {
        "colab": {
          "base_uri": "https://localhost:8080/"
        },
        "id": "btz7MSlLbYGO",
        "outputId": "f2b5bca5-f3ed-49c7-958c-71d8f7328a8f"
      },
      "execution_count": 57,
      "outputs": [
        {
          "output_type": "execute_result",
          "data": {
            "text/plain": [
              "[34, 27, 4, 16, 11, 35, 3, 39, 29, 2]"
            ]
          },
          "metadata": {},
          "execution_count": 57
        }
      ]
    },
    {
      "cell_type": "markdown",
      "source": [
        "**Note:** In Python, stored objects will always be serialized with the Pickle library, so it does not matter whether you choose a serialized level. The available storage levels in Python include MEMORY_ONLY, MEMORY_ONLY_2, MEMORY_AND_DISK, MEMORY_AND_DISK_2, DISK_ONLY, DISK_ONLY_2, and DISK_ONLY_3."
      ],
      "metadata": {
        "id": "9hVIW-7Tbsjq"
      }
    }
  ]
}